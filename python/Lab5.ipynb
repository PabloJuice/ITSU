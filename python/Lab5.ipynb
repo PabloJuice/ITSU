{
 "cells": [
  {
   "cell_type": "markdown",
   "metadata": {
    "hidden": true
   },
   "source": [
    "## Review exercises:"
   ]
  },
  {
   "cell_type": "markdown",
   "metadata": {
    "hidden": true
   },
   "source": [
    "- Write a script that repeatedly asks the user to input an integer, displaying a message to \"try again\" by catching the `ValueError` that is raised if the user did not enter an integer; once the user enters an integer, the program should display the number back to the user and end without crashing."
   ]
  },
  {
   "cell_type": "code",
   "execution_count": 1,
   "metadata": {},
   "outputs": [
    {
     "name": "stdout",
     "output_type": "stream",
     "text": [
      "Please enter an integer: ss\n",
      "Try again \n",
      "Please enter an integer: ss\n",
      "Try again \n",
      "Please enter an integer: 2\n",
      "2\n"
     ]
    }
   ],
   "source": [
    "while True:\n",
    "    try:\n",
    "        n = int(input(\"Please enter an integer: \"))\n",
    "        break\n",
    "    except ValueError:\n",
    "        print(\"Try again \")\n",
    "print(n)"
   ]
  },
  {
   "cell_type": "markdown",
   "metadata": {
    "hidden": true
   },
   "source": [
    "- Create a tuple named `cardinal_nums` that holds the strings \"first\", \"second\" and \"third\" in order."
   ]
  },
  {
   "cell_type": "code",
   "execution_count": 2,
   "metadata": {},
   "outputs": [
    {
     "name": "stdout",
     "output_type": "stream",
     "text": [
      "('first', 'second', 'chird')\n"
     ]
    }
   ],
   "source": [
    "cardinal_nums = (\"first\", \"second\", \"chird\")\n",
    "print(cardinal_nums)"
   ]
  },
  {
   "cell_type": "markdown",
   "metadata": {
    "hidden": true
   },
   "source": [
    "- Display the string at position 2 in `cardinal_nums` by using an index number."
   ]
  },
  {
   "cell_type": "code",
   "execution_count": 3,
   "metadata": {},
   "outputs": [
    {
     "name": "stdout",
     "output_type": "stream",
     "text": [
      "second\n"
     ]
    }
   ],
   "source": [
    "print(cardinal_nums[1])"
   ]
  },
  {
   "cell_type": "markdown",
   "metadata": {
    "hidden": true
   },
   "source": [
    "- Copy the tuple values into three new strings named `pos1`, `pos2` and `pos3` in a single line of code by using tuple unpacking, then print those string values."
   ]
  },
  {
   "cell_type": "code",
   "execution_count": 4,
   "metadata": {},
   "outputs": [
    {
     "name": "stdout",
     "output_type": "stream",
     "text": [
      "first second chird\n"
     ]
    }
   ],
   "source": [
    "(pos1, pos2, pos3) = cardinal_nums\n",
    "print(pos1, pos2, pos3)"
   ]
  },
  {
   "cell_type": "markdown",
   "metadata": {
    "hidden": true
   },
   "source": [
    "## Assignment: List of lists"
   ]
  },
  {
   "cell_type": "markdown",
   "metadata": {
    "hidden": true
   },
   "source": [
    "Define a function, `enrollment_stats()`, that takes, as an input, a list of lists where each individual list contains three elements: (a) the name of a university, (b) the total number of enrolled students, and (c) the annual tuition fees. Sample list:"
   ]
  },
  {
   "cell_type": "code",
   "execution_count": 5,
   "metadata": {
    "hidden": true
   },
   "outputs": [],
   "source": [
    "universities = [\n",
    "    ['California Institute of Technology', 2175, 37704],\n",
    "    ['Harvard', 19627, 39849],\n",
    "    ['Massachusetts Institute of Technology', 10566, 40732],\n",
    "    ['Princeton', 7802, 37000],\n",
    "    ['Rice', 5879, 35551],\n",
    "    ['Stanford', 19535, 40569],\n",
    "    ['Yale', 11701, 40500]\n",
    "]"
   ]
  },
  {
   "cell_type": "markdown",
   "metadata": {
    "hidden": true
   },
   "source": [
    "This function should return two lists: the first containing all of the student enrollment values and the second containing all of the tuition fees.\n",
    "\n",
    "Next, define a `mean()` and a `median()` function. Both functions should take a single list as an argument and return the mean and median from the values in each list. Use the return values from `enrollment_stats()` as arguments for each function. Challenge yourself by finding a way to sum all the values in a `list` without using the built-in `sum()` function for calculating the mean.\n",
    "\n",
    "At some point you should calculate the total students enrolled and the total tuition paid.\n",
    "\n",
    "Finally, output all values:"
   ]
  },
  {
   "cell_type": "raw",
   "metadata": {
    "hidden": true
   },
   "source": [
    "*************************\n",
    "Total students: 77285\n",
    "Total tuition: $ 271905\n",
    "Student mean: 11040\n",
    "Student median: 10566\n",
    "Tuition mean: $ 38843\n",
    "Tuition median: $ 39849\n",
    "*************************"
   ]
  },
  {
   "cell_type": "code",
   "execution_count": 6,
   "metadata": {},
   "outputs": [
    {
     "name": "stdout",
     "output_type": "stream",
     "text": [
      "Total students: 77285\n",
      "Total tuition: $ 271905\n",
      "Student mean: 11040\n",
      "Student median: 10566\n",
      "Tuition mean: $ 38843\n",
      "Tuition median: $ 39849\n"
     ]
    }
   ],
   "source": [
    "def enrollment_stats(listOfLists):\n",
    "    studValues = []\n",
    "    tuitValues = []\n",
    "    for i in listOfLists:\n",
    "        studValues.append(i[1])\n",
    "        tuitValues.append(i[2])\n",
    "    return studValues, tuitValues\n",
    "\n",
    "def total(totalList):\n",
    "    sum = 0\n",
    "    for i in totalList:\n",
    "        sum += i\n",
    "    return sum\n",
    "\n",
    "def mean(meanList):\n",
    "    sum = 0\n",
    "    for i in meanList:\n",
    "        sum += i\n",
    "    return int(sum/(len(meanList)))\n",
    "\n",
    "def median(medianList):\n",
    "    medianList.sort()\n",
    "    return int(medianList[int(len(medianList)/2)])\n",
    "\n",
    "(students, tuitions) = enrollment_stats(universities)\n",
    "print(\"Total students:\", total(students))\n",
    "print(\"Total tuition: $\", total(tuitions))\n",
    "print(\"Student mean:\", mean(students))\n",
    "print(\"Student median:\", median(students))\n",
    "print(\"Tuition mean: $\", mean(tuitions))\n",
    "print(\"Tuition median: $\", median(tuitions))"
   ]
  },
  {
   "cell_type": "markdown",
   "metadata": {
    "hidden": true
   },
   "source": [
    "## Assignment: Wax poetic"
   ]
  },
  {
   "cell_type": "markdown",
   "metadata": {
    "hidden": true
   },
   "source": [
    "Write a script *poetry.py* that will generate a poem based on randomly chosen words and a pre-determined structure. When you are done, you will be able to generate poetic masterpieces such as the following in mere milliseconds:"
   ]
  },
  {
   "cell_type": "raw",
   "metadata": {
    "hidden": true
   },
   "source": [
    "A furry horse\n",
    "\n",
    "A furry horse curdles within the fragrant mango\n",
    "extravagantly, the horse slurps\n",
    "the mango meows beneath a balding extrovert"
   ]
  },
  {
   "cell_type": "markdown",
   "metadata": {
    "hidden": true
   },
   "source": [
    "All of the poems will have this same general structure, inspired by Clifford Pickover:"
   ]
  },
  {
   "cell_type": "raw",
   "metadata": {
    "hidden": true
   },
   "source": [
    "{A/An} {adjective1} {noun1}\n",
    "\n",
    "{A/An} {adjective1} {noun1} {verb1} {preposition1} the {adjective2} {noun2}\n",
    "{adverb1}, the {noun1} {verb2}\n",
    "the {noun2} {verb3} {preposition2} a {adjective3} {noun3}"
   ]
  },
  {
   "cell_type": "markdown",
   "metadata": {
    "hidden": true
   },
   "source": [
    "Your script should include a function `makePoem()` that returns a multi-line string representing a complete poem. The main section of the code should simply print `makePoem()` to display a single poem. In order to get there, use the following steps as a guide:\n",
    "\n",
    "1. First, you'll need a vocabulary from which to create the poem. Create several lists, each containing words pertaining to one part of speech (more or less); i.e., create separate lists for nouns, verbs, adjectives, adverbs, and prepositions. You will need to include at least three different nouns, three verbs, three adjectives, two prepositions and one adverb. You can use the sample word lists below, but feel free to add your own:\n",
    "    - Nouns: \"fossil\", \"horse\", \"aardvark\", \"judge\", \"chef\", \"mango\", \"extrovert\", \"gorilla\"\n",
    "    - Verbs: \"kicks\", \"jingles\", \"bounces\", \"slurps\", \"meows\", \"explodes\", \"curdles\"\n",
    "    - Adjectives: \"furry\", \"balding\", \"incredulous\", \"fragrant\", \"exuberant\", \"glistening\"\n",
    "    - Prepositions: \"against\", \"after\", \"into\", \"beneath\", \"upon\", \"for\", \"in\", \"like\", \"over\", \"within\"\n",
    "    - Adverbs: \"curiously\", \"extravagantly\", \"tantalizingly\", \"furiously\", \"sensuously\"\n",
    "2. Choose random words from the appropriate list using the `random.choice()` function, storing each choice in a new string. Select three nouns, three verbs, three adjectives, one adverb, and two prepositions. Make sure that none of the words are repeated. (Hint: Use a while loop to repeat the selection process until you get a new word.)\n",
    "3. Plug the words you selected into the structure above to create a poem string by using the `format()` string method.\n",
    "4. Bonus: Make sure that the \"A\" in the title and the first line is adjusted to become an \"An\" automatically if the first adjective begins with a vowel."
   ]
  },
  {
   "cell_type": "code",
   "execution_count": 7,
   "metadata": {},
   "outputs": [
    {
     "name": "stdout",
     "output_type": "stream",
     "text": [
      "An incredulous gorilla\n",
      "\n",
      "An incredulous gorilla curdles in the balding extrovert\n",
      "extravagantly, the gorilla meows\n",
      "the extrovert bounces over a fragrant horse\n"
     ]
    }
   ],
   "source": [
    "import random\n",
    "\n",
    "nouns = [\"fossil\", \"horse\", \"aardvark\", \"judge\", \"chef\", \"mango\", \"extrovert\", \"gorilla\"]\n",
    "verbs = [\"kicks\", \"jingles\", \"bounces\", \"slurps\", \"meows\", \"explodes\", \"curdles\"]\n",
    "adjectives = [\"furry\", \"balding\", \"incredulous\", \"fragrant\", \"exuberant\", \"glistening\"]\n",
    "prepositions = [\"against\", \"after\", \"into\", \"beneath\", \"upon\", \"for\", \"in\", \"like\", \"over\", \"within\"]\n",
    "adverbs = [\"curiously\", \"extravagantly\", \"tantalizingly\", \"furiously\", \"sensuously\"]\n",
    "\n",
    "\n",
    "def makePoem():\n",
    "    noun1 = random.choice(nouns)\n",
    "    noun2 = random.choice(nouns)\n",
    "    noun3 = random.choice(nouns)\n",
    "\n",
    "    while noun1 == noun2:\n",
    "        noun2 = random.choice(nouns)\n",
    "    while noun1 == noun3 or noun2 == noun3:\n",
    "        noun3 = random.choice(nouns)\n",
    "\n",
    "    verb1 = random.choice(verbs)\n",
    "    verb2 = random.choice(verbs)\n",
    "    verb3 = random.choice(verbs)\n",
    "    \n",
    "    while verb1 == verb2:\n",
    "        verb2 = random.choice(verbs)\n",
    "    while verb1 == verb3 or verb2 == verb3:\n",
    "        verb3 = random.choice(verbs)\n",
    "\n",
    "    adj1 = random.choice(adjectives)\n",
    "    adj2 = random.choice(adjectives)\n",
    "    adj3 = random.choice(adjectives)\n",
    "    \n",
    "    while adj1 == adj2:\n",
    "        adj2 = random.choice(adjectives)\n",
    "    while adj1 == adj3 or adj2 == adj3:\n",
    "        adj3 = random.choice(adjectives)\n",
    "\n",
    "    prep1 = random.choice(prepositions)\n",
    "    prep2 = random.choice(prepositions)\n",
    "    \n",
    "    while prep1 == prep2:\n",
    "        prep2 = random.choice(prepositions)\n",
    "\n",
    "    adv1 = random.choice(adverbs)\n",
    "\n",
    "    if \"aeiou\".find(adj1[0]) != -1:  # First letter is a vowel\n",
    "        article = \"An\"\n",
    "    else:\n",
    "        article = \"A\"\n",
    "\n",
    "    poem = (\n",
    "        f\"{article} {adj1} {noun1}\\n\\n\"\n",
    "        f\"{article} {adj1} {noun1} {verb1} {prep1} the {adj2} {noun2}\\n\"\n",
    "        f\"{adv1}, the {noun1} {verb2}\\n\"\n",
    "        f\"the {noun2} {verb3} {prep2} a {adj3} {noun3}\"\n",
    "    )\n",
    "\n",
    "    return poem\n",
    "\n",
    "print(makePoem())"
   ]
  },
  {
   "cell_type": "markdown",
   "metadata": {
    "hidden": true
   },
   "source": [
    "## Assignment: Capital city loop"
   ]
  },
  {
   "cell_type": "markdown",
   "metadata": {
    "hidden": true
   },
   "source": [
    "Review your state capitals along with dictionaries and while loops!\n",
    "\n",
    "First, finish filling out the following dictionary with the remaining states and their associated capitals in a file called *capitals.py*. Or you can grab the finished file directly from the exercises folder in the course repository on Github."
   ]
  },
  {
   "cell_type": "raw",
   "metadata": {
    "hidden": true
   },
   "source": [
    "capitals_dict = {\n",
    "    'Alabama': 'Montgomery',\n",
    "    'Alaska': 'Juneau',\n",
    "    'Arizona': 'Phoenix',\n",
    "    'Arkansas': 'Little Rock',\n",
    "    'California': 'Sacramento',\n",
    "    'Colorado': 'Denver',\n",
    "    'Connecticut': 'Hartford',\n",
    "    'Delaware': 'Dover',\n",
    "    'Florida': 'Tallahassee',\n",
    "    'Georgia': 'Atlanta',\n",
    "}"
   ]
  },
  {
   "cell_type": "markdown",
   "metadata": {
    "hidden": true
   },
   "source": [
    "Next, write a script that imports the `capitals_dict` variable along with the 'random' package:"
   ]
  },
  {
   "cell_type": "raw",
   "metadata": {
    "hidden": true
   },
   "source": [
    "from capitals import capitals_dict\n",
    "import random"
   ]
  },
  {
   "cell_type": "markdown",
   "metadata": {
    "hidden": true
   },
   "source": [
    "This script should use a while loop to iterate through the dictionary and grab a random state and capital, assigning each to a variable. The user is then asked what the capital of the randomly picked state is. The loop continues forever, asking the user what the capital is, unless the user either answers correctly or types \"exit\".\n",
    "\n",
    "If the user answers correctly, \"Correct\" is displayed after the loop ends. However, if the\n",
    "user exits without guessing correctly, the answer is displayed along with \"Goodbye.\"\n",
    "\n",
    "**NOTE:** Make sure the user is not punished for case sensitivity. In other words, a guess of \"Denver\" is the same as \"denver\". The same rings true for exiting - \"EXIT\" and \"Exit\" are the same as \"exit\"."
   ]
  },
  {
   "cell_type": "code",
   "execution_count": 8,
   "metadata": {
    "hidden": true
   },
   "outputs": [],
   "source": [
    "capitals_dict = {\n",
    "    'Alabama': 'Montgomery',\n",
    "    'Alaska': 'Juneau',\n",
    "    'Arizona': 'Phoenix',\n",
    "    'Arkansas': 'Little Rock',\n",
    "    'California': 'Sacramento',\n",
    "    'Colorado': 'Denver',\n",
    "    'Connecticut': 'Hartford',\n",
    "    'Delaware': 'Dover',\n",
    "    'Florida': 'Tallahassee',\n",
    "    'Georgia': 'Atlanta',\n",
    "    'Hawaii': 'Honolulu',\n",
    "    'Idaho': 'Boise',\n",
    "    'Illinois': 'Springfield',\n",
    "    'Indiana': 'Indianapolis',\n",
    "    'Iowa': 'Des Moines',\n",
    "    'Kansas': 'Topeka',\n",
    "    'Kentucky': 'Frankfort',\n",
    "    'Louisiana': 'Baton Rouge',\n",
    "    'Maine': 'Augusta',\n",
    "    'Maryland': 'Annapolis',\n",
    "    'Massachusetts': 'Boston',\n",
    "    'Michigan': 'Lansing',\n",
    "    'Minnesota': 'Saint Paul',\n",
    "    'Mississippi': 'Jackson',\n",
    "    'Missouri': 'Jefferson City',\n",
    "    'Montana': 'Helena',\n",
    "    'Nebraska': 'Lincoln',\n",
    "    'Nevada': 'Carson City',\n",
    "    'New Hampshire': 'Concord',\n",
    "    'New Jersey': 'Trenton',\n",
    "    'New Mexico': 'Santa Fe',\n",
    "    'New York': 'Albany',\n",
    "    'North Carolina': 'Raleigh',\n",
    "    'North Dakota': 'Bismarck',\n",
    "    'Ohio': 'Columbus',\n",
    "    'Oklahoma': 'Oklahoma City',\n",
    "    'Oregon': 'Salem',\n",
    "    'Pennsylvania': 'Harrisburg',\n",
    "    'Rhode Island': 'Providence',\n",
    "    'South Carolina': 'Columbia',\n",
    "    'South Dakota': 'Pierre',\n",
    "    'Tennessee': 'Nashville',\n",
    "    'Texas': 'Austin',\n",
    "    'Utah': 'Salt Lake City',\n",
    "    'Vermont': 'Montpelier',\n",
    "    'Virginia': 'Richmond',\n",
    "    'Washington': 'Olympia',\n",
    "    'West Virginia': 'Charleston',\n",
    "    'Wisconsin': 'Madison',\n",
    "    'Wyoming': 'Cheyenne',\n",
    "}"
   ]
  },
  {
   "cell_type": "code",
   "execution_count": 9,
   "metadata": {},
   "outputs": [
    {
     "name": "stdout",
     "output_type": "stream",
     "text": [
      "What is the capital of 'Wyoming'? Cheyenne\n",
      "Correct\n"
     ]
    }
   ],
   "source": [
    "state, capital = random.choice(list(capitals_dict.items()))\n",
    "\n",
    "while True:\n",
    "    guess = input(f\"What is the capital of '{state}'? \").lower()\n",
    "    if guess == \"exit\":\n",
    "        print(f\"The capital of '{state}' is '{capital}'.\")\n",
    "        print(\"Goodbye\")\n",
    "        break\n",
    "    elif guess == capital.lower():\n",
    "        print(\"Correct\")\n",
    "        break"
   ]
  },
  {
   "cell_type": "markdown",
   "metadata": {
    "hidden": true
   },
   "source": [
    "## Assignment: Cats with hats"
   ]
  },
  {
   "cell_type": "markdown",
   "metadata": {
    "hidden": true
   },
   "source": [
    "You have 100 cats.\n",
    "\n",
    "One day you decide to arrange all your cats in a giant circle. Initially, none of your cats have any hats on. You walk around the circle 100 times, always starting at the same spot, with the first cat (cat # 1). Every time you stop at a cat, you either put a hat on it if it doesn't have one on, or you take its hat off if it has one on.\n",
    "\n",
    "1. The first round, you stop at every cat, placing a hat on each one.\n",
    "2. The second round, you only stop at every second cat (#2, #4, #6, #8, etc.).\n",
    "3. The third round, you only stop at every third cat (#3, #6, #9, #12, etc.).\n",
    "4. You continue this process until you've made 100 rounds around the cats (e.g., you only visit the 100th cat).\n",
    "\n",
    "Write a program that simply outputs which cats have hats at the end.\n",
    "\n",
    "**NOTE:** This is not an easy problem by any means. Honestly, the code is simple. This problem is often seen on job interviews as it tests your ability to reason your way through a difficult problem. Stay calm. Start with a diagram, and then write pseudo code. Find a pattern. Then code!"
   ]
  },
  {
   "cell_type": "code",
   "execution_count": 10,
   "metadata": {},
   "outputs": [
    {
     "name": "stdout",
     "output_type": "stream",
     "text": [
      "[1, 4, 9, 16, 25, 36, 49, 64, 81, 100]\n"
     ]
    }
   ],
   "source": [
    "numberOfCats = 100\n",
    "catsWithHats = []\n",
    "numberOfLaps = 100\n",
    "\n",
    "for lap in range(1, numberOfLaps + 1):\n",
    "    for cat in range(1, numberOfCats + 1):\n",
    "\n",
    "        if cat % lap == 0:\n",
    "            if cat in catsWithHats:\n",
    "                catsWithHats.remove(cat)\n",
    "            else:\n",
    "                catsWithHats.append(cat)\n",
    "\n",
    "print(catsWithHats)"
   ]
  },
  {
   "cell_type": "code",
   "execution_count": null,
   "metadata": {},
   "outputs": [],
   "source": []
  }
 ],
 "metadata": {
  "anaconda-cloud": {},
  "hide_input": false,
  "kernelspec": {
   "display_name": "Python 3",
   "language": "python",
   "name": "python3"
  },
  "language_info": {
   "codemirror_mode": {
    "name": "ipython",
    "version": 3
   },
   "file_extension": ".py",
   "mimetype": "text/x-python",
   "name": "python",
   "nbconvert_exporter": "python",
   "pygments_lexer": "ipython3",
   "version": "3.8.5"
  },
  "varInspector": {
   "cols": {
    "lenName": 16,
    "lenType": 16,
    "lenVar": 40
   },
   "kernels_config": {
    "python": {
     "delete_cmd_postfix": "",
     "delete_cmd_prefix": "del ",
     "library": "var_list.py",
     "varRefreshCmd": "print(var_dic_list())"
    },
    "r": {
     "delete_cmd_postfix": ") ",
     "delete_cmd_prefix": "rm(",
     "library": "var_list.r",
     "varRefreshCmd": "cat(var_dic_list()) "
    }
   },
   "types_to_exclude": [
    "module",
    "function",
    "builtin_function_or_method",
    "instance",
    "_Feature"
   ],
   "window_display": false
  }
 },
 "nbformat": 4,
 "nbformat_minor": 4
}
