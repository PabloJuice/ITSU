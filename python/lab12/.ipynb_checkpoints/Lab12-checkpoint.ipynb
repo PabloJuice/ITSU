{
 "cells": [
  {
   "cell_type": "markdown",
   "metadata": {},
   "source": [
    "# Summer Olympics (part 2)"
   ]
  },
  {
   "cell_type": "markdown",
   "metadata": {},
   "source": [
    "**Використані джерела:**\n",
    "- datacamp.com"
   ]
  },
  {
   "cell_type": "markdown",
   "metadata": {},
   "source": [
    "## Loading Olympic edition DataFrame"
   ]
  },
  {
   "cell_type": "markdown",
   "metadata": {},
   "source": [
    "In this chapter, you'll be using [The Guardian's Olympic medal dataset](https://www.theguardian.com/sport/datablog/2012/jun/25/olympic-medal-winner-list-data).\n",
    "\n",
    "Your first task here is to prepare a DataFrame `editions` from a tab-separated values (TSV) file.\n",
    "\n",
    "Initially, `editions` has 26 rows (one for each Olympic edition, i.e., a year in which the Olympics was held) and 7 columns: `'Edition'`, `'Bronze'`, `'Gold'`, `'Silver'`, `'Grand Total'`, `'City'`, and `'Country'`.\n",
    "\n",
    "For the analysis that follows, you won't need the overall medal counts, so you want to keep only the useful columns from `editions`: `'Edition'`, `'Grand Total'`, `'City'`, and `'Country'`.\n",
    "\n",
    "**Instructions**\n",
    "- Read `file_path` into a DataFrame called `editions`. The identifier `file_path` has been pre-defined with the filename `'Summer Olympic medallists 1896 to 2008 - EDITIONS.tsv'`. You'll have to use the option `sep='\\t'` because the file uses tabs to delimit fields (`pd.read_csv()` expects commas by default).\n",
    "- Select only the columns `'Edition'`, `'Grand Total'`, `'City'`, and `'Country'` from `editions`.\n",
    "- Print the final DataFrame `editions in entirety (there are only 26 rows)."
   ]
  },
  {
   "cell_type": "code",
   "execution_count": 1,
   "metadata": {},
   "outputs": [],
   "source": [
    "path = 'datasets/Summer Olympic medals/'"
   ]
  },
  {
   "cell_type": "code",
   "execution_count": 4,
   "metadata": {},
   "outputs": [
    {
     "name": "stdout",
     "output_type": "stream",
     "text": [
      "    Edition  Grand Total         City                     Country\n",
      "0      1896          151       Athens                      Greece\n",
      "1      1900          512        Paris                      France\n",
      "2      1904          470    St. Louis               United States\n",
      "3      1908          804       London              United Kingdom\n",
      "4      1912          885    Stockholm                      Sweden\n",
      "5      1920         1298      Antwerp                     Belgium\n",
      "6      1924          884        Paris                      France\n",
      "7      1928          710    Amsterdam                 Netherlands\n",
      "8      1932          615  Los Angeles               United States\n",
      "9      1936          875       Berlin                     Germany\n",
      "10     1948          814       London              United Kingdom\n",
      "11     1952          889     Helsinki                     Finland\n",
      "12     1956          885    Melbourne                   Australia\n",
      "13     1960          882         Rome                       Italy\n",
      "14     1964         1010        Tokyo                       Japan\n",
      "15     1968         1031  Mexico City                      Mexico\n",
      "16     1972         1185       Munich  West Germany (now Germany)\n",
      "17     1976         1305     Montreal                      Canada\n",
      "18     1980         1387       Moscow       U.S.S.R. (now Russia)\n",
      "19     1984         1459  Los Angeles               United States\n",
      "20     1988         1546        Seoul                 South Korea\n",
      "21     1992         1705    Barcelona                       Spain\n",
      "22     1996         1859      Atlanta               United States\n",
      "23     2000         2015       Sydney                   Australia\n",
      "24     2004         1998       Athens                      Greece\n",
      "25     2008         2042      Beijing                       China\n"
     ]
    }
   ],
   "source": [
    "#Import pandas\n",
    "import pandas as pd\n",
    "\n",
    "# Create file path: file_path\n",
    "file_path = 'Summer Olympic medalists 1896 to 2008 - EDITIONS.tsv'\n",
    "\n",
    "# Load DataFrame from file_path: editions\n",
    "editions = pd.read_csv(path + file_path, sep='\\t')\n",
    "\n",
    "# Extract the relevant columns: editions\n",
    "editions = editions[['Edition', 'Grand Total', 'City', 'Country']]\n",
    "\n",
    "# Print editions DataFrame\n",
    "print(editions)"
   ]
  },
  {
   "cell_type": "markdown",
   "metadata": {},
   "source": [
    "Next, you'll prepare a DataFrame of IOC codes."
   ]
  },
  {
   "cell_type": "markdown",
   "metadata": {},
   "source": [
    "## Loading IOC codes DataFrame"
   ]
  },
  {
   "cell_type": "markdown",
   "metadata": {},
   "source": [
    "Your task here is to prepare a DataFrame `ioc_codes` from a comma-separated values (CSV) file.\n",
    "\n",
    "Initially, `ioc_codes` has 200 rows (one for each country) and 3 columns: `'Country'`, `'NOC'`, & `'ISO code'`.\n",
    "\n",
    "For the analysis that follows, you want to keep only the useful columns from `ioc_codes`: `'Country'` and `'NOC'` (the column `'NOC'` contains three-letter codes representing each country).\n",
    "\n",
    "**Instructions**\n",
    "- Read `file_path` into a DataFrame called `ioc_codes`. The identifier `file_path` has been pre-defined with the filename `'Summer Olympic medallists 1896 to 2008 - IOC COUNTRY CODES.csv'`.\n",
    "- Select only the columns `'Country'` and `'NOC'` from `ioc_codes`.\n",
    "- Print the leading 5 and trailing 5 rows of the DataFrame `ioc_codes` (there are 200 rows in total)."
   ]
  },
  {
   "cell_type": "code",
   "execution_count": 7,
   "metadata": {},
   "outputs": [
    {
     "name": "stdout",
     "output_type": "stream",
     "text": [
      "           Country  NOC\n",
      "0      Afghanistan  AFG\n",
      "1          Albania  ALB\n",
      "2          Algeria  ALG\n",
      "3  American Samoa*  ASA\n",
      "4          Andorra  AND\n"
     ]
    }
   ],
   "source": [
    "# Import pandas\n",
    "import pandas as pd\n",
    "\n",
    "# Create the file path: file_path\n",
    "file_path = 'Summer Olympic medalists 1896 to 2008 - IOC COUNTRY CODES.csv'\n",
    "\n",
    "# Load DataFrame from file_path: ioc_codes\n",
    "ioc_codes = pd.read_csv(path + file_path)\n",
    "\n",
    "# Extract the relevant columns: ioc_codes\n",
    "ioc_codes = ioc_codes[['Country', 'NOC']]\n",
    "\n",
    "# Print first and last 5 rows of ioc_codes\n",
    "print(ioc_codes.head())"
   ]
  },
  {
   "cell_type": "code",
   "execution_count": 8,
   "metadata": {},
   "outputs": [
    {
     "name": "stdout",
     "output_type": "stream",
     "text": [
      "             Country  NOC\n",
      "196          Vietnam  VIE\n",
      "197  Virgin Islands*  ISV\n",
      "198            Yemen  YEM\n",
      "199           Zambia  ZAM\n",
      "200         Zimbabwe  ZIM\n"
     ]
    }
   ],
   "source": [
    "print(ioc_codes.tail())"
   ]
  },
  {
   "cell_type": "markdown",
   "metadata": {},
   "source": [
    "## Building medals DataFrame"
   ]
  },
  {
   "cell_type": "markdown",
   "metadata": {},
   "source": [
    "Here, you'll start with the DataFrame `editions` from the previous exercise.\n",
    "\n",
    "You have a sequence of files `summer_1896.csv`, `summer_1900.csv`, ..., `summer_2008.csv`, one for each Olympic edition (year).\n",
    "\n",
    "You will build up a dictionary `medals_dict` with the Olympic editions (years) as keys and DataFrames as values.\n",
    "\n",
    "The dictionary is built up inside a loop over the `year` of each Olympic edition (from the Index of `editions`).\n",
    "\n",
    "Once the dictionary of DataFrames is built up, you will combine the DataFrames using `pd.concat()`.\n",
    "\n",
    "**Instructions**\n",
    "- Within the `for` loop:\n",
    "  - Create the file path. This has been done for you.\n",
    "  - Read `file_path` into a DataFrame. Assign the result to the `year` key of `medals_dict`.\n",
    "  - Select only the columns `'Athlete'`, `'NOC'`, and `'Medal'` from `medals_dict[year]`.\n",
    "  - Create a new column called `'Edition'` in the DataFrame `medals_dict[year]` whose entries are all `year`.\n",
    "- Concatenate the dictionary of DataFrames `medals_dict` into a DataFame called `medals`. Specify the keyword argument `ignore_index=True` to prevent repeated integer indices.\n",
    "- Print the first and last 5 rows of `medals`."
   ]
  },
  {
   "cell_type": "code",
   "execution_count": 11,
   "metadata": {},
   "outputs": [
    {
     "name": "stdout",
     "output_type": "stream",
     "text": [
      "              Athlete  NOC   Medal  Edition\n",
      "0       HAJOS, Alfred  HUN    Gold     1896\n",
      "1    HERSCHMANN, Otto  AUT  Silver     1896\n",
      "2   DRIVAS, Dimitrios  GRE  Bronze     1896\n",
      "3  MALOKINIS, Ioannis  GRE    Gold     1896\n",
      "4  CHASAPIS, Spiridon  GRE  Silver     1896\n"
     ]
    }
   ],
   "source": [
    "# Import pandas\n",
    "import pandas as pd\n",
    "\n",
    "# Create empty dictionary: medals_dict\n",
    "medals_dict = {}\n",
    "\n",
    "for year in editions['Edition']:\n",
    "\n",
    "    # Create the file path: file_path\n",
    "    file_path = 'summer_{:d}.csv'.format(year)\n",
    "    \n",
    "    # Load file_path into a DataFrame: medals_dict[year]\n",
    "    medals_dict[year] = pd.read_csv(path + \"by_year/\"+ file_path)\n",
    "    \n",
    "    # Extract relevant columns: medals_dict[year]\n",
    "    medals_dict[year] = medals_dict[year][['Athlete', 'NOC', 'Medal']]\n",
    "    \n",
    "    # Assign year to column 'Edition' of medals_dict\n",
    "    medals_dict[year]['Edition'] = year \n",
    "    \n",
    "# Concatenate medals_dict: medals\n",
    "medals = pd.concat(medals_dict, ignore_index=True)\n",
    "\n",
    "# Print first and last 5 rows of medals\n",
    "print(medals.head())"
   ]
  },
  {
   "cell_type": "code",
   "execution_count": 12,
   "metadata": {},
   "outputs": [
    {
     "name": "stdout",
     "output_type": "stream",
     "text": [
      "                    Athlete  NOC   Medal  Edition\n",
      "29211        ENGLICH, Mirko  GER  Silver     2008\n",
      "29212  MIZGAITIS, Mindaugas  LTU  Bronze     2008\n",
      "29213       PATRIKEEV, Yuri  ARM  Bronze     2008\n",
      "29214         LOPEZ, Mijain  CUB    Gold     2008\n",
      "29215        BAROEV, Khasan  RUS  Silver     2008\n"
     ]
    }
   ],
   "source": [
    "print(medals.tail())"
   ]
  },
  {
   "cell_type": "code",
   "execution_count": 7,
   "metadata": {},
   "outputs": [],
   "source": [
    "# fp = 'Summer Olympic medalists 1896 to 2008 - ALL MEDALISTS.tsv'\n",
    "# medals_alter = pd.read_csv(path + fp, sep = '\\t', skiprows = 4)[['Athlete', 'NOC', 'Medal', 'Edition']]\n",
    "# print(medals_alter.head())"
   ]
  },
  {
   "cell_type": "code",
   "execution_count": 8,
   "metadata": {},
   "outputs": [],
   "source": [
    "# print(medals_alter.tail())"
   ]
  },
  {
   "cell_type": "markdown",
   "metadata": {},
   "source": [
    "You're now ready to begin analyzing the medal data."
   ]
  },
  {
   "cell_type": "markdown",
   "metadata": {},
   "source": [
    "## Counting medals by country/edition in a pivot table"
   ]
  },
  {
   "cell_type": "markdown",
   "metadata": {},
   "source": [
    "Here, you'll start with the concatenated DataFrame `medals` from the previous exercise.\n",
    "\n",
    "You can construct a pivot table to see the number of medals each country won in each year. The result is a new DataFrame with the Olympic edition on the Index and with 138 country `NOC` codes as columns.\n",
    "\n",
    "**Instructions**\n",
    "- Construct a pivot table from the DataFrame `medals`, aggregating by `count` (by specifying the `aggfunc` parameter). Use `'Edition'` as the index, 'Athlete' for the values, and 'NOC' for the columns.\n",
    "- Print the first & last 5 rows of `medal_counts`."
   ]
  },
  {
   "cell_type": "code",
   "execution_count": 13,
   "metadata": {},
   "outputs": [
    {
     "name": "stdout",
     "output_type": "stream",
     "text": [
      "NOC      AFG  AHO  ALG   ANZ  ARG  ARM  AUS   AUT  AZE  BAH  ...  URS  URU  \\\n",
      "Edition                                                      ...             \n",
      "1896     NaN  NaN  NaN   NaN  NaN  NaN  2.0   5.0  NaN  NaN  ...  NaN  NaN   \n",
      "1900     NaN  NaN  NaN   NaN  NaN  NaN  5.0   6.0  NaN  NaN  ...  NaN  NaN   \n",
      "1904     NaN  NaN  NaN   NaN  NaN  NaN  NaN   1.0  NaN  NaN  ...  NaN  NaN   \n",
      "1908     NaN  NaN  NaN  19.0  NaN  NaN  NaN   1.0  NaN  NaN  ...  NaN  NaN   \n",
      "1912     NaN  NaN  NaN  10.0  NaN  NaN  NaN  14.0  NaN  NaN  ...  NaN  NaN   \n",
      "\n",
      "NOC        USA  UZB  VEN  VIE  YUG  ZAM  ZIM   ZZX  \n",
      "Edition                                             \n",
      "1896      20.0  NaN  NaN  NaN  NaN  NaN  NaN   6.0  \n",
      "1900      55.0  NaN  NaN  NaN  NaN  NaN  NaN  34.0  \n",
      "1904     394.0  NaN  NaN  NaN  NaN  NaN  NaN   8.0  \n",
      "1908      63.0  NaN  NaN  NaN  NaN  NaN  NaN   NaN  \n",
      "1912     101.0  NaN  NaN  NaN  NaN  NaN  NaN   NaN  \n",
      "\n",
      "[5 rows x 138 columns]\n",
      "NOC      AFG  AHO  ALG  ANZ   ARG  ARM    AUS  AUT  AZE  BAH  ...  URS  URU  \\\n",
      "Edition                                                       ...             \n",
      "1992     NaN  NaN  2.0  NaN   2.0  NaN   57.0  6.0  NaN  1.0  ...  NaN  NaN   \n",
      "1996     NaN  NaN  3.0  NaN  20.0  2.0  132.0  3.0  1.0  5.0  ...  NaN  NaN   \n",
      "2000     NaN  NaN  5.0  NaN  20.0  1.0  183.0  4.0  3.0  6.0  ...  NaN  1.0   \n",
      "2004     NaN  NaN  NaN  NaN  47.0  NaN  157.0  8.0  5.0  2.0  ...  NaN  NaN   \n",
      "2008     1.0  NaN  2.0  NaN  51.0  6.0  149.0  3.0  7.0  5.0  ...  NaN  NaN   \n",
      "\n",
      "NOC        USA  UZB  VEN  VIE   YUG  ZAM  ZIM  ZZX  \n",
      "Edition                                             \n",
      "1992     224.0  NaN  NaN  NaN   NaN  NaN  NaN  NaN  \n",
      "1996     260.0  2.0  NaN  NaN  26.0  1.0  NaN  NaN  \n",
      "2000     248.0  4.0  NaN  1.0  26.0  NaN  NaN  NaN  \n",
      "2004     264.0  5.0  2.0  NaN   NaN  NaN  3.0  NaN  \n",
      "2008     315.0  6.0  1.0  1.0   NaN  NaN  4.0  NaN  \n",
      "\n",
      "[5 rows x 138 columns]\n"
     ]
    }
   ],
   "source": [
    "# Construct the pivot_table: medal_counts\n",
    "medal_counts = medals.pivot_table(aggfunc='count', index='Edition', values='Athlete', columns='NOC')\n",
    "\n",
    "# Print the first & last 5 rows of medal_counts\n",
    "print(medal_counts.head())\n",
    "print(medal_counts.tail())"
   ]
  },
  {
   "cell_type": "code",
   "execution_count": 14,
   "metadata": {
    "scrolled": true
   },
   "outputs": [
    {
     "name": "stdout",
     "output_type": "stream",
     "text": [
      "NOC      AFG  AHO  ALG  ANZ   ARG  ARM    AUS  AUT  AZE  BAH  ...  URS  URU  \\\n",
      "Edition                                                       ...             \n",
      "1992     NaN  NaN  2.0  NaN   2.0  NaN   57.0  6.0  NaN  1.0  ...  NaN  NaN   \n",
      "1996     NaN  NaN  3.0  NaN  20.0  2.0  132.0  3.0  1.0  5.0  ...  NaN  NaN   \n",
      "2000     NaN  NaN  5.0  NaN  20.0  1.0  183.0  4.0  3.0  6.0  ...  NaN  1.0   \n",
      "2004     NaN  NaN  NaN  NaN  47.0  NaN  157.0  8.0  5.0  2.0  ...  NaN  NaN   \n",
      "2008     1.0  NaN  2.0  NaN  51.0  6.0  149.0  3.0  7.0  5.0  ...  NaN  NaN   \n",
      "\n",
      "NOC        USA  UZB  VEN  VIE   YUG  ZAM  ZIM  ZZX  \n",
      "Edition                                             \n",
      "1992     224.0  NaN  NaN  NaN   NaN  NaN  NaN  NaN  \n",
      "1996     260.0  2.0  NaN  NaN  26.0  1.0  NaN  NaN  \n",
      "2000     248.0  4.0  NaN  1.0  26.0  NaN  NaN  NaN  \n",
      "2004     264.0  5.0  2.0  NaN   NaN  NaN  3.0  NaN  \n",
      "2008     315.0  6.0  1.0  1.0   NaN  NaN  4.0  NaN  \n",
      "\n",
      "[5 rows x 138 columns]\n"
     ]
    }
   ],
   "source": [
    "print(medal_counts.tail())"
   ]
  },
  {
   "cell_type": "markdown",
   "metadata": {},
   "source": [
    "As you can see, the pivot table DataFrame has mostly `NaN` entries (because most countries do not win any medals in a given Olympic edition)."
   ]
  },
  {
   "cell_type": "markdown",
   "metadata": {},
   "source": [
    "## Computing fraction of medals per Olympic edition"
   ]
  },
  {
   "cell_type": "markdown",
   "metadata": {},
   "source": [
    "In this exercise, you'll start with the DataFrames `editions`, `medals`, & `medal_counts` from prior exercises.\n",
    "\n",
    "You can extract a Series with the total number of medals awarded in each Olympic edition.\n",
    "\n",
    "The DataFrame `medal_counts` can be divided row-wise by the total number of medals awarded each edition; the method `.divide()` performs the broadcast as you require.\n",
    "\n",
    "This gives you a normalized indication of each country's performance in each edition.\n",
    "\n",
    "**Instructions**\n",
    "- Set the index of the DataFrame `editions` to be `'Edition'` (using the method `.set_index()`). Save the result as `totals`.\n",
    "- Extract the `'Grand Total'` column from `totals` and assign the result back to `totals`.\n",
    "- Divide the DataFrame `medal_counts` by `totals` along each row. You will have to use the `.divide()` method with the option `axis='rows'`. Assign the result to `fractions`.\n",
    "- Print first & last 5 rows of the DataFrame `fractions`."
   ]
  },
  {
   "cell_type": "code",
   "execution_count": 15,
   "metadata": {},
   "outputs": [
    {
     "name": "stdout",
     "output_type": "stream",
     "text": [
      "NOC      AFG  AHO  ALG       ANZ  ARG  ARM       AUS       AUT  AZE  BAH  ...  \\\n",
      "Edition                                                                   ...   \n",
      "1896     NaN  NaN  NaN       NaN  NaN  NaN  0.013245  0.033113  NaN  NaN  ...   \n",
      "1900     NaN  NaN  NaN       NaN  NaN  NaN  0.009766  0.011719  NaN  NaN  ...   \n",
      "1904     NaN  NaN  NaN       NaN  NaN  NaN       NaN  0.002128  NaN  NaN  ...   \n",
      "1908     NaN  NaN  NaN  0.023632  NaN  NaN       NaN  0.001244  NaN  NaN  ...   \n",
      "1912     NaN  NaN  NaN  0.011299  NaN  NaN       NaN  0.015819  NaN  NaN  ...   \n",
      "\n",
      "NOC      URS  URU       USA  UZB  VEN  VIE  YUG  ZAM  ZIM       ZZX  \n",
      "Edition                                                              \n",
      "1896     NaN  NaN  0.132450  NaN  NaN  NaN  NaN  NaN  NaN  0.039735  \n",
      "1900     NaN  NaN  0.107422  NaN  NaN  NaN  NaN  NaN  NaN  0.066406  \n",
      "1904     NaN  NaN  0.838298  NaN  NaN  NaN  NaN  NaN  NaN  0.017021  \n",
      "1908     NaN  NaN  0.078358  NaN  NaN  NaN  NaN  NaN  NaN       NaN  \n",
      "1912     NaN  NaN  0.114124  NaN  NaN  NaN  NaN  NaN  NaN       NaN  \n",
      "\n",
      "[5 rows x 138 columns]\n"
     ]
    }
   ],
   "source": [
    "# Set Index of editions: totals\n",
    "totals = editions.set_index('Edition')\n",
    "\n",
    "# Reassign totals['Grand Total']: totals\n",
    "totals = totals['Grand Total']\n",
    "\n",
    "# Divide medal_counts by totals: fractions\n",
    "fractions = medal_counts.divide(totals, axis='rows')\n",
    "\n",
    "# Print first & last 5 rows of fractions\n",
    "print(fractions.head())"
   ]
  },
  {
   "cell_type": "code",
   "execution_count": 16,
   "metadata": {},
   "outputs": [
    {
     "name": "stdout",
     "output_type": "stream",
     "text": [
      "NOC          AFG  AHO       ALG  ANZ       ARG       ARM       AUS       AUT  \\\n",
      "Edition                                                                        \n",
      "1992         NaN  NaN  0.001173  NaN  0.001173       NaN  0.033431  0.003519   \n",
      "1996         NaN  NaN  0.001614  NaN  0.010758  0.001076  0.071006  0.001614   \n",
      "2000         NaN  NaN  0.002481  NaN  0.009926  0.000496  0.090819  0.001985   \n",
      "2004         NaN  NaN       NaN  NaN  0.023524       NaN  0.078579  0.004004   \n",
      "2008     0.00049  NaN  0.000979  NaN  0.024976  0.002938  0.072968  0.001469   \n",
      "\n",
      "NOC           AZE       BAH  ...  URS       URU       USA       UZB       VEN  \\\n",
      "Edition                      ...                                                \n",
      "1992          NaN  0.000587  ...  NaN       NaN  0.131378       NaN       NaN   \n",
      "1996     0.000538  0.002690  ...  NaN       NaN  0.139860  0.001076       NaN   \n",
      "2000     0.001489  0.002978  ...  NaN  0.000496  0.123077  0.001985       NaN   \n",
      "2004     0.002503  0.001001  ...  NaN       NaN  0.132132  0.002503  0.001001   \n",
      "2008     0.003428  0.002449  ...  NaN       NaN  0.154261  0.002938  0.000490   \n",
      "\n",
      "NOC           VIE       YUG       ZAM       ZIM  ZZX  \n",
      "Edition                                               \n",
      "1992          NaN       NaN       NaN       NaN  NaN  \n",
      "1996          NaN  0.013986  0.000538       NaN  NaN  \n",
      "2000     0.000496  0.012903       NaN       NaN  NaN  \n",
      "2004          NaN       NaN       NaN  0.001502  NaN  \n",
      "2008     0.000490       NaN       NaN  0.001959  NaN  \n",
      "\n",
      "[5 rows x 138 columns]\n"
     ]
    }
   ],
   "source": [
    "print(fractions.tail())"
   ]
  },
  {
   "cell_type": "markdown",
   "metadata": {},
   "source": [
    "## Computing percentage change in fraction of medals won"
   ]
  },
  {
   "cell_type": "markdown",
   "metadata": {},
   "source": [
    "Here, you'll start with the DataFrames `editions`, `medals`, `medal_counts`, & `fractions` from prior exercises.\n",
    "\n",
    "To see if there is a host country advantage, you first want to see how the fraction of medals won changes from edition to edition.\n",
    "\n",
    "The expanding mean provides a way to see this down each column. It is the value of the mean with all the data available up to that point in time. If you are interested in learning more about pandas' expanding transformations, this section of the [pandas documentation](http://pandas.pydata.org/pandas-docs/stable/user_guide/computation.html) has additional information.\n",
    "\n",
    "**Instructions**\n",
    "- Create `mean_fractions` by chaining the methods `.expanding().mean()` to `fractions`.\n",
    "- Compute the percentage change in `mean_fractions` down each column by applying `.pct_change()` and multiplying by `100`. Assign the result to `fractions_change`.\n",
    "- Reset the index of `fractions_change` using the `.reset_index()` method. This will make `'Edition'` an ordinary column.\n",
    "- Print the first and last 5 rows of the DataFrame `fractions_change`."
   ]
  },
  {
   "cell_type": "code",
   "execution_count": 17,
   "metadata": {},
   "outputs": [
    {
     "name": "stdout",
     "output_type": "stream",
     "text": [
      "NOC  Edition  AFG  AHO  ALG        ANZ  ARG  ARM        AUS        AUT  AZE  \\\n",
      "0       1896  NaN  NaN  NaN        NaN  NaN  NaN        NaN        NaN  NaN   \n",
      "1       1900  NaN  NaN  NaN        NaN  NaN  NaN -13.134766 -32.304688  NaN   \n",
      "2       1904  NaN  NaN  NaN        NaN  NaN  NaN   0.000000 -30.169386  NaN   \n",
      "3       1908  NaN  NaN  NaN        NaN  NaN  NaN   0.000000 -23.013510  NaN   \n",
      "4       1912  NaN  NaN  NaN -26.092774  NaN  NaN   0.000000   6.254438  NaN   \n",
      "\n",
      "NOC  ...  URS  URU         USA  UZB  VEN  VIE  YUG  ZAM  ZIM        ZZX  \n",
      "0    ...  NaN  NaN         NaN  NaN  NaN  NaN  NaN  NaN  NaN        NaN  \n",
      "1    ...  NaN  NaN   -9.448242  NaN  NaN  NaN  NaN  NaN  NaN  33.561198  \n",
      "2    ...  NaN  NaN  199.651245  NaN  NaN  NaN  NaN  NaN  NaN -22.642384  \n",
      "3    ...  NaN  NaN  -19.549222  NaN  NaN  NaN  NaN  NaN  NaN   0.000000  \n",
      "4    ...  NaN  NaN  -12.105733  NaN  NaN  NaN  NaN  NaN  NaN   0.000000  \n",
      "\n",
      "[5 rows x 139 columns]\n"
     ]
    }
   ],
   "source": [
    "# Apply the expanding mean: mean_fractions\n",
    "mean_fractions = fractions.expanding().mean()\n",
    "\n",
    "# Compute the percentage change: fractions_change\n",
    "fractions_change = mean_fractions.pct_change() * 100\n",
    "\n",
    "# Reset the index of fractions_change: fractions_change\n",
    "fractions_change = fractions_change.reset_index()\n",
    "\n",
    "# Print first & last 5 rows of fractions_change\n",
    "print(fractions_change.head())"
   ]
  },
  {
   "cell_type": "code",
   "execution_count": 18,
   "metadata": {
    "scrolled": false
   },
   "outputs": [
    {
     "name": "stdout",
     "output_type": "stream",
     "text": [
      "NOC  Edition  AFG  AHO        ALG  ANZ       ARG        ARM        AUS  \\\n",
      "21      1992  NaN  0.0  -7.214076  0.0 -6.767308        NaN   2.754114   \n",
      "22      1996  NaN  0.0   8.959211  0.0  1.306696        NaN  10.743275   \n",
      "23      2000  NaN  0.0  19.762488  0.0  0.515190 -26.935484  12.554986   \n",
      "24      2004  NaN  0.0   0.000000  0.0  9.625365   0.000000   8.161162   \n",
      "25      2008  NaN  0.0  -8.197807  0.0  8.588555  91.266408   6.086870   \n",
      "\n",
      "NOC       AUT        AZE  ...  URS        URU       USA        UZB       VEN  \\\n",
      "21  -3.034840        NaN  ...  0.0   0.000000 -1.329330        NaN  0.000000   \n",
      "22  -3.876773        NaN  ...  0.0   0.000000 -1.010378        NaN  0.000000   \n",
      "23  -3.464221  88.387097  ...  0.0 -12.025323 -1.341842  42.258065  0.000000   \n",
      "24  -2.186922  48.982144  ...  0.0   0.000000 -1.031922  21.170339 -1.615969   \n",
      "25  -3.389836  31.764436  ...  0.0   0.000000 -0.450031  14.610625 -6.987342   \n",
      "\n",
      "NOC       VIE       YUG        ZAM        ZIM  ZZX  \n",
      "21        NaN  0.000000   0.000000   0.000000  0.0  \n",
      "22        NaN -2.667732 -10.758472   0.000000  0.0  \n",
      "23        NaN -2.696445   0.000000   0.000000  0.0  \n",
      "24   0.000000  0.000000   0.000000 -43.491929  0.0  \n",
      "25  -0.661117  0.000000   0.000000 -23.316533  0.0  \n",
      "\n",
      "[5 rows x 139 columns]\n"
     ]
    }
   ],
   "source": [
    "print(fractions_change.tail())"
   ]
  },
  {
   "cell_type": "markdown",
   "metadata": {},
   "source": [
    "## Building hosts DataFrame"
   ]
  },
  {
   "cell_type": "markdown",
   "metadata": {},
   "source": [
    "Your task here is to prepare a DataFrame `hosts` by left joining `editions` and `ioc_codes`.\n",
    "\n",
    "Once created, you will subset the `Edition` and `NOC` columns and set `Edition` as the Index.\n",
    "\n",
    "There are some missing `NOC` values; you will set those explicitly.\n",
    "\n",
    "Finally, you'll reset the Index & print the final DataFrame.\n",
    "\n",
    "**Instructions**\n",
    "- Create the DataFrame `hosts` by doing a left join on DataFrames `editions` and `ioc_codes` (using `pd.merge()`).\n",
    "- Clean up `hosts` by subsetting and setting the Index.\n",
    "  - Extract the columns `'Edition'` and `'NOC'`.\n",
    "  - Set `'Edition'` column as the Index.\n",
    "- Use the `.loc[]` accessor to find and assign the missing values to the `'NOC'` column in `hosts`. This has been done for you.\n",
    "- Reset the index of `hosts` using `.reset_index()`, which you'll need to save as the `hosts` DataFrame."
   ]
  },
  {
   "cell_type": "code",
   "execution_count": 20,
   "metadata": {},
   "outputs": [
    {
     "name": "stdout",
     "output_type": "stream",
     "text": [
      "         NOC\n",
      "Edition     \n",
      "1972     NaN\n",
      "1980     NaN\n",
      "1988     NaN\n"
     ]
    }
   ],
   "source": [
    "# Import pandas\n",
    "import pandas as pd\n",
    "\n",
    "# Left join editions and ioc_codes: hosts\n",
    "hosts = pd.merge(editions, ioc_codes, how='left')\n",
    "\n",
    "# Extract relevant columns and set index: hosts\n",
    "hosts = hosts[['Edition','NOC']].set_index('Edition')\n",
    "\n",
    "# Fix missing 'NOC' values of hosts\n",
    "print(hosts.loc[hosts.NOC.isnull()])\n",
    "hosts.loc[1972, 'NOC'] = 'FRG'\n",
    "hosts.loc[1980, 'NOC'] = 'URS'\n",
    "hosts.loc[1988, 'NOC'] = 'KOR'"
   ]
  },
  {
   "cell_type": "code",
   "execution_count": 21,
   "metadata": {},
   "outputs": [
    {
     "name": "stdout",
     "output_type": "stream",
     "text": [
      "    Edition  NOC\n",
      "0      1896  GRE\n",
      "1      1900  FRA\n",
      "2      1904  USA\n",
      "3      1908  GBR\n",
      "4      1912  SWE\n",
      "5      1920  BEL\n",
      "6      1924  FRA\n",
      "7      1928  NED\n",
      "8      1932  USA\n",
      "9      1936  GER\n",
      "10     1948  GBR\n",
      "11     1952  FIN\n",
      "12     1956  AUS\n",
      "13     1960  ITA\n",
      "14     1964  JPN\n",
      "15     1968  MEX\n",
      "16     1972  FRG\n",
      "17     1976  CAN\n",
      "18     1980  URS\n",
      "19     1984  USA\n",
      "20     1988  KOR\n",
      "21     1992  ESP\n",
      "22     1996  USA\n",
      "23     2000  AUS\n",
      "24     2004  GRE\n",
      "25     2008  CHN\n"
     ]
    }
   ],
   "source": [
    "# Reset Index of hosts: hosts\n",
    "hosts = hosts.reset_index()\n",
    "\n",
    "# Print hosts\n",
    "print(hosts)"
   ]
  },
  {
   "cell_type": "markdown",
   "metadata": {},
   "source": [
    "You now have a DataFrame consisting of all the hosts."
   ]
  },
  {
   "cell_type": "markdown",
   "metadata": {},
   "source": [
    "## Reshaping for analysis"
   ]
  },
  {
   "cell_type": "markdown",
   "metadata": {},
   "source": [
    "This exercise starts off with `fractions_change` and `hosts` already loaded.\n",
    "\n",
    "Your task here is to reshape the `fractions_change` DataFrame for later analysis.\n",
    "\n",
    "Initially, `fractions_change` is a wide DataFrame of 26 rows (one for each Olympic edition) and 139 columns (one for the edition and 138 for the competing countries).\n",
    "\n",
    "On reshaping with `pd.melt()`, as you will see, the result is a tall DataFrame with 3588 rows and 3 columns that summarizes the fractional change in the expanding mean of the percentage of medals won for each country in blocks.\n",
    "\n",
    "**Instructions**\n",
    "- Create a DataFrame `reshaped` by reshaping the DataFrame `fractions_change` with `pd.melt()`.\n",
    "- You'll need to use the keyword argument `id_vars='Edition'` to set the identifier variable.\n",
    "- You'll also need to use the keyword argument `value_name='Change'` to set the measured variables.\n",
    "- Print the shape of the DataFrames `reshaped` and `fractions_change`. This has been done for you.\n",
    "- Create a DataFrame `chn` by extracting all the rows from `reshaped` in which the three letter code for each country (`'NOC'`) is `'CHN'`.\n",
    "- Print the last 5 rows of the DataFrame `chn` using the `.tail()` method."
   ]
  },
  {
   "cell_type": "code",
   "execution_count": 22,
   "metadata": {},
   "outputs": [
    {
     "name": "stdout",
     "output_type": "stream",
     "text": [
      "(3588, 3) (26, 139)\n"
     ]
    }
   ],
   "source": [
    "# Import pandas\n",
    "import pandas as pd\n",
    "\n",
    "# Reshape fractions_change: reshaped\n",
    "reshaped = pd.melt(fractions_change, id_vars='Edition', value_name='Change')\n",
    "\n",
    "# Print reshaped.shape and fractions_change.shape\n",
    "print(reshaped.shape, fractions_change.shape)"
   ]
  },
  {
   "cell_type": "code",
   "execution_count": 23,
   "metadata": {},
   "outputs": [
    {
     "name": "stdout",
     "output_type": "stream",
     "text": [
      "     Edition  NOC     Change\n",
      "567     1992  CHN   4.240630\n",
      "568     1996  CHN   7.860247\n",
      "569     2000  CHN  -3.851278\n",
      "570     2004  CHN   0.128863\n",
      "571     2008  CHN  13.251332\n"
     ]
    }
   ],
   "source": [
    "# Extract rows from reshaped where 'NOC' == 'CHN': chn\n",
    "chn = reshaped.loc[reshaped.NOC == 'CHN']\n",
    "\n",
    "# Print last 5 rows of chn with .tail()\n",
    "print(chn.tail())"
   ]
  },
  {
   "cell_type": "markdown",
   "metadata": {},
   "source": [
    "On looking at the hosting countries from the last 5 Olympic editions and the fractional change of medals won by China the last 5 editions, you can see that China fared significantly better in 2008 (i.e., when China was the host country)."
   ]
  },
  {
   "cell_type": "markdown",
   "metadata": {},
   "source": [
    "## Merging to compute influence"
   ]
  },
  {
   "cell_type": "markdown",
   "metadata": {},
   "source": [
    "This exercise starts off with the DataFrames `reshaped` and `hosts` in the namespace.\n",
    "\n",
    "Your task is to merge the two DataFrames and tidy the result.\n",
    "\n",
    "The end result is a DataFrame summarizing the fractional change in the expanding mean of the percentage of medals won for the host country in each Olympic edition.\n",
    "\n",
    "**Instructions**\n",
    "- Merge `reshaped` and `hosts` using an inner join. Remember, `how='inner'` is the default behavior for `pd.merge()`.\n",
    "- Print the first 5 rows of the DataFrame `merged`. This has been done for you. You should see that the rows are jumbled chronologically.\n",
    "- Set the index of `merged` to be `'Edition'` and sort the index.\n",
    "- Print the first 5 rows of the DataFrame `influence`."
   ]
  },
  {
   "cell_type": "code",
   "execution_count": 24,
   "metadata": {},
   "outputs": [
    {
     "name": "stdout",
     "output_type": "stream",
     "text": [
      "   Edition  NOC     Change\n",
      "0     1956  AUS  54.615063\n",
      "1     2000  AUS  12.554986\n",
      "2     1920  BEL  54.757887\n",
      "3     1976  CAN  -2.143977\n",
      "4     2008  CHN  13.251332\n"
     ]
    }
   ],
   "source": [
    "# Import pandas\n",
    "import pandas as pd\n",
    "\n",
    "# Merge reshaped and hosts: merged\n",
    "merged = pd.merge(reshaped, hosts, how='inner')\n",
    "\n",
    "# Print first 5 rows of merged\n",
    "print(merged.head())"
   ]
  },
  {
   "cell_type": "code",
   "execution_count": 25,
   "metadata": {},
   "outputs": [
    {
     "name": "stdout",
     "output_type": "stream",
     "text": [
      "         NOC      Change\n",
      "Edition                 \n",
      "1896     GRE         NaN\n",
      "1900     FRA  198.002486\n",
      "1904     USA  199.651245\n",
      "1908     GBR  134.489218\n",
      "1912     SWE   71.896226\n"
     ]
    }
   ],
   "source": [
    "# Set Index of merged and sort it: influence\n",
    "influence = merged.set_index('Edition').sort_index()\n",
    "\n",
    "# Print first 5 rows of influence\n",
    "print(influence.head())"
   ]
  },
  {
   "cell_type": "markdown",
   "metadata": {},
   "source": [
    "It would be far more informative to visualize these results. This is exactly what you'll do in the next exercise!"
   ]
  },
  {
   "cell_type": "markdown",
   "metadata": {},
   "source": [
    "## Plotting influence of host country"
   ]
  },
  {
   "cell_type": "markdown",
   "metadata": {},
   "source": [
    "This final exercise starts off with the DataFrames `influence` and `editions` in the namespace. Your job is to plot the influence of being a host country.\n",
    "\n",
    "**Instructions**\n",
    "- Create a Series called `change` by extracting the `'Change'` column from `influence`.\n",
    "- Create a bar plot of `change` using the `.plot()` method with `kind='bar'`. Save the result as `ax` to permit further customization.\n",
    "- Customize the bar plot of `change` to improve readability:\n",
    "- Apply the method `.set_ylabel(\"% Change of Host Country Medal Count\")` to `ax`.\n",
    "- Apply the method `.set_title(\"Is there a Host Country Advantage?\")` to `ax`.\n",
    "- Apply the method `.set_xticklabels(editions['City'])` to `ax`.\n",
    "- Reveal the final plot using `plt.show()`."
   ]
  },
  {
   "cell_type": "code",
   "execution_count": 26,
   "metadata": {},
   "outputs": [
    {
     "data": {
      "image/png": "[encoded data removed]",
      "text/plain": [
       "<Figure size 432x288 with 1 Axes>"
      ]
     },
     "metadata": {
      "needs_background": "light"
     },
     "output_type": "display_data"
    }
   ],
   "source": [
    "# Import pyplot\n",
    "import matplotlib.pyplot as plt\n",
    "\n",
    "# Extract influence['Change']: change\n",
    "change = influence['Change']\n",
    "\n",
    "# Make bar plot of change: ax\n",
    "ax = change.plot(kind='bar')\n",
    "\n",
    "# Customize the plot to improve readability\n",
    "ax.set_ylabel(\"% Change of Host Country Medal Count\")\n",
    "ax.set_title(\"Is there a Host Country Advantage?\")\n",
    "ax.set_xticklabels(editions['City'])\n",
    "\n",
    "# Display the plot\n",
    "plt.show()"
   ]
  },
  {
   "cell_type": "code",
   "execution_count": null,
   "metadata": {},
   "outputs": [],
   "source": []
  }
 ],
 "metadata": {
  "anaconda-cloud": {},
  "hide_input": false,
  "kernelspec": {
   "display_name": "Python 3",
   "language": "python",
   "name": "python3"
  },
  "language_info": {
   "codemirror_mode": {
    "name": "ipython",
    "version": 3
   },
   "file_extension": ".py",
   "mimetype": "text/x-python",
   "name": "python",
   "nbconvert_exporter": "python",
   "pygments_lexer": "ipython3",
   "version": "3.8.5"
  },
  "varInspector": {
   "cols": {
    "lenName": 16,
    "lenType": 16,
    "lenVar": 40
   },
   "kernels_config": {
    "python": {
     "delete_cmd_postfix": "",
     "delete_cmd_prefix": "del ",
     "library": "var_list.py",
     "varRefreshCmd": "print(var_dic_list())"
    },
    "r": {
     "delete_cmd_postfix": ") ",
     "delete_cmd_prefix": "rm(",
     "library": "var_list.r",
     "varRefreshCmd": "cat(var_dic_list()) "
    }
   },
   "types_to_exclude": [
    "module",
    "function",
    "builtin_function_or_method",
    "instance",
    "_Feature"
   ],
   "window_display": false
  }
 },
 "nbformat": 4,
 "nbformat_minor": 2
}
