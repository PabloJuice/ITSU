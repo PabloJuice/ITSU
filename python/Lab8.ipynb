{
 "cells": [
  {
   "cell_type": "code",
   "execution_count": 1,
   "id": "textile-sigma",
   "metadata": {},
   "outputs": [],
   "source": [
    "import os\n",
    "import glob\n",
    "import csv\n",
    "import argparse\n",
    "import pandas as pd"
   ]
  },
  {
   "cell_type": "markdown",
   "id": "coated-cocktail",
   "metadata": {},
   "source": [
    "Review exercises:\n",
    "1. Read in the raw text file poem.txt from the chapter 10 practice files and display each\n",
    "line by looping over them individually, then close the file; we'll discuss using file\n",
    "paths in the next section, but for now you can save your script in the same folder as\n",
    "the text file\n",
    "2. Repeat the previous exercise using the  with  keyword so that the file is closed\n",
    "automatically after you're done looping through the lines\n",
    "3. Write a text file output.txt that contains the same lines as poem.txt by opening both\n",
    "files at the same time (in different modes) and copying the original file over line-byline; do this using a loop and closing both files, then repeat this exercise using the\n",
    "with  keyword\n",
    "4. Re-open output.txt and append an additional line of your choice to the end of the file\n",
    "on a new line"
   ]
  },
  {
   "cell_type": "code",
   "execution_count": 2,
   "id": "selective-discovery",
   "metadata": {},
   "outputs": [
    {
     "name": "stdout",
     "output_type": "stream",
     "text": [
      "This is the first line\n",
      "\n",
      "The second line is longer\n",
      "\n",
      "Hippopotamus\n",
      "\n",
      "\n",
      "This is the first line\n",
      "\n",
      "The second line is longer\n",
      "\n",
      "Hippopotamus\n"
     ]
    }
   ],
   "source": [
    "my_poem = open(\"./lab8_files/poem.txt\", \"r\")\n",
    "#1\n",
    "for line in my_poem.readlines():\n",
    "    print(line,)\n",
    "my_poem.close()\n",
    "print();print()\n",
    "\n",
    "#2\n",
    "with open(\"./lab8_files/poem.txt\", \"r\") as my_poem:\n",
    "    for line in my_poem.readlines():\n",
    "        print(line,)\n",
    "\n",
    "# 3\n",
    "poem_in = open(\"./lab8_files/poem.txt\", \"r\")\n",
    "poem_out = open(\"./lab8_files/output.txt\", \"w\")\n",
    "for line in poem_in.readlines():\n",
    "    poem_out.write(line)\n",
    "poem_in.close()\n",
    "poem_out.close()\n",
    "\n",
    "with open(\"./lab8_files/poem.txt\", \"r\") as poem_in, open(\"output.txt\", \"w\") as poem_out:\n",
    "    for line in poem_in.readlines():\n",
    "        poem_out.write(line)\n",
    "\n",
    "\n",
    "# 4\n",
    "with open(\"./lab8_files/output.txt\", \"a\") as poem_append:\n",
    "    poem_append.write(\"\\nThus ends the haiku.\")\n"
   ]
  },
  {
   "cell_type": "markdown",
   "id": "internal-mounting",
   "metadata": {},
   "source": [
    "Review exercises:\n",
    "1. Display the full paths of all of the files and folders in the images folder by using os.listdir() \n",
    "2. Display the full paths of any PNG files in the images folder by using  glob.glob()\n",
    "3. Rename any PNG files in the images folder and its subfolders to be JPG files by using  os.walk() ; in case you mess things up beyond repair, there is a copy of the images folder in the backup folder\n",
    "4. Make sure that your last script worked by using  os.path.exists()  to check that the JPG files now exist (by providing  os.path.exists()  with the full path to each of these files)"
   ]
  },
  {
   "cell_type": "code",
   "execution_count": 3,
   "id": "alternative-terrorism",
   "metadata": {},
   "outputs": [
    {
     "name": "stdout",
     "output_type": "stream",
     "text": [
      "./lab8_files/images/additional files\n",
      "./lab8_files/images/an image file.gif\n",
      "./lab8_files/images/another image.gif\n",
      "./lab8_files/images/one more image.gif\n",
      "./lab8_files/images/png file - not a gif.png\n",
      "\n",
      "./lab8_files/images\\png file - not a gif.png\n",
      "\n",
      "\n",
      "True\n",
      "True\n"
     ]
    }
   ],
   "source": [
    "path = \"./lab8_files/images/\"\n",
    "\n",
    "\n",
    "# 1\n",
    "for file_name in os.listdir(path):\n",
    "    print(os.path.join(path, file_name))\n",
    "print()\n",
    "\n",
    "# 2\n",
    "file_matches = os.path.join(path, \"*.png\")\n",
    "for file_name in glob.glob(file_matches):\n",
    "    print(file_name)\n",
    "print()\n",
    "\n",
    "# 3\n",
    "for current_folder, subfolders, file_names in os.walk(path):\n",
    "    for file_name in file_names:\n",
    "        file_path = os.path.join(current_folder, file_name)\n",
    "        file_tuple = os.path.splitext(file_path)\n",
    "        if file_tuple[1].lower() == \".png\":\n",
    "            os.rename(file_path, file_tuple[0] + \".jpg\")\n",
    "print()\n",
    "# 4\n",
    "print(os.path.exists(os.path.join(path, \"png file - not a gif.jpg\")))\n",
    "print(os.path.exists(os.path.join(path, \"additional files/one last image.jpg\")))"
   ]
  },
  {
   "cell_type": "markdown",
   "id": "hungry-wisdom",
   "metadata": {},
   "source": [
    "Assignment: Use pattern matching to delete files\n",
    "Write a script remove_files.py that will look in the chapter 9 practice files folder named \"little pics\" as well all of its subfolders. The script should use  os.remove()  to delete any JPG file found in any of these folders if the file is less than 2 Kb (2,000 bytes) in size.\n",
    "\n",
    "You can supply the  os.path.getsize()  function with a full file path to return the file's size in bytes. Check the contents of the folders before running your script to make sure that you delete the correct files; you should only end up removing the files named \"to be deleted.jpg\" and \"definitely has to go.jpg\" - although you should only use the file extensions and file sizes to determine this.\n",
    "\n",
    "If you mess up and delete the wrong files, there is a folder named \"backup\" that contains an exact copy of the \"little pics\" folder and all its contents so that you can copy these contents back and try again."
   ]
  },
  {
   "cell_type": "code",
   "execution_count": 4,
   "id": "visible-detail",
   "metadata": {},
   "outputs": [
    {
     "name": "stdout",
     "output_type": "stream",
     "text": [
      "Deleting \"to be deleted.jpg\"...\n",
      "Deleting \"definitely has to go.jpg\"...\n",
      "Deleting \"to be deleted.jpg\"...\n",
      "Deleting \"definitely has to go.jpg\"...\n"
     ]
    }
   ],
   "source": [
    "path = \"./lab8_files/\"\n",
    "\n",
    "for current_folder, subfolders, file_names in os.walk(path):\n",
    "    for file_name in file_names:\n",
    "        full_path = os.path.join(current_folder, file_name)\n",
    "        check_JPG = file_name.lower().endswith(\".jpg\")\n",
    "        check_size = os.path.getsize(full_path) < 2000\n",
    "        if check_JPG and check_size: \n",
    "            print('Deleting \"{}\"...'.format(file_name))\n",
    "            os.remove(full_path)"
   ]
  },
  {
   "cell_type": "markdown",
   "id": "innocent-video",
   "metadata": {},
   "source": [
    "Review exercises:\n",
    "1. Write a script that reads in the data from the CSV file pastimes.csv located in the chapter 9 practice files folder, skipping over the header row\n",
    "2. Display each row of data (except for the header row) as a list of strings\n",
    "3. Add code to your script to determine whether or not the second entry in each row (the \"Favorite Pastime\") converted to lower-case includes the word \"fighting\" using the string methods find() and lower()\n",
    "4. Use the list append() method to add a third column of data to each row that takes the value \"Combat\" if the word \"fighting\" is found and takes the value \"Other\" if neither word appears\n",
    "5. Write out a new CSV file categorized pastimes.csv to the Output folder with the updated data that includes a new header row with the fields \"Name\", \"Favorite Pastime\", and \"Type of Pastime\"\n"
   ]
  },
  {
   "cell_type": "code",
   "execution_count": 5,
   "id": "structured-cisco",
   "metadata": {},
   "outputs": [
    {
     "name": "stdout",
     "output_type": "stream",
     "text": [
      "['Fezzik', 'Fighting']\n",
      "['Westley', 'Winning']\n",
      "['Inigo Montoya', 'Sword fighting']\n",
      "['Buttercup', 'Complaining']\n"
     ]
    }
   ],
   "source": [
    "path = \"./lab8_files/\"\n",
    "\n",
    "in_file_path = os.path.join(path, \"pastimes.csv\")\n",
    "out_file_path = os.path.join(path, \"Output/pastimes.csv\")\n",
    "with open(in_file_path, \"r\") as inFile, open(out_file_path, \"w\") as outFile:\n",
    "    csv_reader = csv.reader(inFile)\n",
    "    csv_writer = csv.writer(outFile)\n",
    "\n",
    "    next(csv_reader)\n",
    "    csv_writer.writerow([\"Name\", \"Favorite Pastime\", \"Type of pastime\"])\n",
    "\n",
    "    for row in csv_reader:\n",
    "        print(row)\n",
    "        if row[1].lower().find(\"fighting\") != -1:\n",
    "            row.append(\"Combat\")\n",
    "        else:\n",
    "            row.append(\"Other\")\n",
    "        csv_writer.writerow(row)"
   ]
  },
  {
   "cell_type": "markdown",
   "id": "bound-satisfaction",
   "metadata": {},
   "source": [
    "Assignment:\tCreate\ta\thigh\tscores\tlist\tfrom CSV\tdata"
   ]
  },
  {
   "cell_type": "code",
   "execution_count": 6,
   "id": "olive-power",
   "metadata": {},
   "outputs": [
    {
     "name": "stdout",
     "output_type": "stream",
     "text": [
      "Empiro 23\n",
      "L33tH4x 42\n",
      "LLCoolDave 27\n",
      "MaxxT 25\n",
      "Misha46 25\n",
      "O_O 22\n",
      "johnsmith 30\n",
      "red 12\n",
      "tom123 26\n"
     ]
    }
   ],
   "source": [
    "path = \"./lab8_files/\"\n",
    "\n",
    "high_scores_dict = {}\n",
    "with open(os.path.join(path, \"scores.csv\"), \"r\") as myFile:\n",
    "    my_file_reader = csv.reader(myFile)\n",
    "    for name, score in my_file_reader:\n",
    "        score = int(score)\n",
    "        if name in high_scores_dict:\n",
    "            if score > high_scores_dict[name]:\n",
    "                high_scores_dict[name] = score\n",
    "        else:\n",
    "            high_scores_dict[name] = score\n",
    "\n",
    "for name in sorted(high_scores_dict):\n",
    "    print(name, high_scores_dict[name])"
   ]
  },
  {
   "cell_type": "markdown",
   "id": "qualified-passage",
   "metadata": {},
   "source": [
    "Assignment:\tSplit\ta\tCSV\tfile"
   ]
  },
  {
   "cell_type": "code",
   "execution_count": null,
   "id": "disciplinary-tours",
   "metadata": {},
   "outputs": [],
   "source": []
  }
 ],
 "metadata": {
  "kernelspec": {
   "display_name": "Python 3",
   "language": "python",
   "name": "python3"
  },
  "language_info": {
   "codemirror_mode": {
    "name": "ipython",
    "version": 3
   },
   "file_extension": ".py",
   "mimetype": "text/x-python",
   "name": "python",
   "nbconvert_exporter": "python",
   "pygments_lexer": "ipython3",
   "version": "3.8.5"
  }
 },
 "nbformat": 4,
 "nbformat_minor": 5
}
