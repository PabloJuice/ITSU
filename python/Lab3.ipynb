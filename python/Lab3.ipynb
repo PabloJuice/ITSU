{
 "cells": [
  {
   "cell_type": "markdown",
   "metadata": {},
   "source": [
    "## Review exercises:\n",
    "- Create a list named `desserts` that holds the two string values \"ice cream\" and\n",
    "\"cookies\""
   ]
  },
  {
   "cell_type": "code",
   "execution_count": 1,
   "metadata": {},
   "outputs": [],
   "source": [
    "desserts = [\"ice cream\", \"cookies\"]"
   ]
  },
  {
   "cell_type": "markdown",
   "metadata": {},
   "source": [
    "- Sort `desserts` in alphabetical order, then display the contents of the list"
   ]
  },
  {
   "cell_type": "code",
   "execution_count": 2,
   "metadata": {},
   "outputs": [
    {
     "name": "stdout",
     "output_type": "stream",
     "text": [
      "['cookies', 'ice cream']\n"
     ]
    }
   ],
   "source": [
    "desserts.sort()\n",
    "print(desserts)"
   ]
  },
  {
   "cell_type": "markdown",
   "metadata": {},
   "source": [
    "- Display the index number of \"ice cream\" in the `desserts` list"
   ]
  },
  {
   "cell_type": "code",
   "execution_count": 3,
   "metadata": {},
   "outputs": [
    {
     "name": "stdout",
     "output_type": "stream",
     "text": [
      "1\n"
     ]
    }
   ],
   "source": [
    "print(desserts.index(\"ice cream\"))"
   ]
  },
  {
   "cell_type": "markdown",
   "metadata": {},
   "source": [
    "- Copy the contents of the `desserts` list into a new list object named `food`"
   ]
  },
  {
   "cell_type": "code",
   "execution_count": 4,
   "metadata": {},
   "outputs": [
    {
     "name": "stdout",
     "output_type": "stream",
     "text": [
      "['cookies', 'ice cream']\n"
     ]
    }
   ],
   "source": [
    "food = desserts.copy()\n",
    "print(food)"
   ]
  },
  {
   "cell_type": "markdown",
   "metadata": {},
   "source": [
    "- Add the strings \"broccoli\" and \"turnips\" to the `food` list"
   ]
  },
  {
   "cell_type": "code",
   "execution_count": 5,
   "metadata": {},
   "outputs": [],
   "source": [
    "food.append(\"broccoli\")\n",
    "food.append(\"turnips\")"
   ]
  },
  {
   "cell_type": "markdown",
   "metadata": {},
   "source": [
    "- Display the contents of both lists to make sure that \"broccoli\" and \"turnips\" haven't been added to `desserts`"
   ]
  },
  {
   "cell_type": "code",
   "execution_count": 6,
   "metadata": {},
   "outputs": [
    {
     "name": "stdout",
     "output_type": "stream",
     "text": [
      "['cookies', 'ice cream', 'broccoli', 'turnips']\n",
      "['cookies', 'ice cream']\n"
     ]
    }
   ],
   "source": [
    "print(food)\n",
    "print(desserts)"
   ]
  },
  {
   "cell_type": "markdown",
   "metadata": {},
   "source": [
    "- Remove \"cookies\" from the `food` list"
   ]
  },
  {
   "cell_type": "code",
   "execution_count": 7,
   "metadata": {},
   "outputs": [
    {
     "name": "stdout",
     "output_type": "stream",
     "text": [
      "['ice cream', 'broccoli', 'turnips']\n"
     ]
    }
   ],
   "source": [
    "food.remove(\"cookies\")\n",
    "print(food)"
   ]
  },
  {
   "cell_type": "markdown",
   "metadata": {},
   "source": [
    "- Display the first two items in the `food` list by specifying an index range"
   ]
  },
  {
   "cell_type": "code",
   "execution_count": 8,
   "metadata": {},
   "outputs": [
    {
     "name": "stdout",
     "output_type": "stream",
     "text": [
      "['ice cream', 'broccoli']\n"
     ]
    }
   ],
   "source": [
    "print(food[:2])"
   ]
  },
  {
   "cell_type": "markdown",
   "metadata": {},
   "source": [
    "- Create a list named `breakfast` that holds three strings, each with the value of \"cookies\", by splitting up the string \"cookies, cookies, cookies\""
   ]
  },
  {
   "cell_type": "code",
   "execution_count": 9,
   "metadata": {},
   "outputs": [
    {
     "name": "stdout",
     "output_type": "stream",
     "text": [
      "['cookies', 'cookies', 'cookies']\n"
     ]
    }
   ],
   "source": [
    "breakfast = \"cookies, cookies, cookies\".split(\", \")\n",
    "print(breakfast)"
   ]
  },
  {
   "cell_type": "markdown",
   "metadata": {},
   "source": [
    "- Create an empty dictionary named `birthdays`"
   ]
  },
  {
   "cell_type": "code",
   "execution_count": 10,
   "metadata": {},
   "outputs": [
    {
     "name": "stdout",
     "output_type": "stream",
     "text": [
      "{}\n"
     ]
    }
   ],
   "source": [
    "birthdays = {}\n",
    "print(birthdays)"
   ]
  },
  {
   "cell_type": "markdown",
   "metadata": {},
   "source": [
    "- Enter the following data into the dictionary:\n",
    "\n",
    "`'Luke Skywalker': '5/24/19'`\n",
    "\n",
    "`'Obi-Wan Kenobi': '3/11/57'`\n",
    "\n",
    "`'Darth Vader': '4/1/41'`"
   ]
  },
  {
   "cell_type": "code",
   "execution_count": 11,
   "metadata": {},
   "outputs": [
    {
     "name": "stdout",
     "output_type": "stream",
     "text": [
      "{'Luke Skywalker': '5/24/19', 'Obi-Wan Kenobi': '3/11/57', 'Darth Vader': '4/1/41'}\n"
     ]
    }
   ],
   "source": [
    "birthdays.update({'Luke Skywalker': '5/24/19'})\n",
    "birthdays.update({'Obi-Wan Kenobi': '3/11/57'})\n",
    "birthdays.update({'Darth Vader': '4/1/41'})\n",
    "print(birthdays)"
   ]
  },
  {
   "cell_type": "markdown",
   "metadata": {},
   "source": [
    "- Write `if` statements that test to check if 'Yoda' and 'Darth Vader' exist as keys in the dictionary, then enter each of them with birthday value 'unknown' if their name does not exist as a key"
   ]
  },
  {
   "cell_type": "code",
   "execution_count": 12,
   "metadata": {},
   "outputs": [
    {
     "name": "stdout",
     "output_type": "stream",
     "text": [
      "{'Luke Skywalker': '5/24/19', 'Obi-Wan Kenobi': '3/11/57', 'Darth Vader': '4/1/41', 'Yoda': 'unknown'}\n"
     ]
    }
   ],
   "source": [
    "if birthdays.get('Yoda') == None:\n",
    "    birthdays.update({'Yoda': 'unknown'})\n",
    "if birthdays.get('Darth Vader') == None:\n",
    "    birthdays.update({'Darth Vader': 'unknown'})\n",
    "print(birthdays)"
   ]
  },
  {
   "cell_type": "markdown",
   "metadata": {},
   "source": [
    "- Display all the key-value pairs in the dictionary, one per line with a space between the name and the birthday, by looping over the dictionary's keys"
   ]
  },
  {
   "cell_type": "code",
   "execution_count": 13,
   "metadata": {},
   "outputs": [
    {
     "name": "stdout",
     "output_type": "stream",
     "text": [
      "('Luke Skywalker', '5/24/19')\n",
      "('Obi-Wan Kenobi', '3/11/57')\n",
      "('Darth Vader', '4/1/41')\n",
      "('Yoda', 'unknown')\n"
     ]
    }
   ],
   "source": [
    "for date in birthdays.items():\n",
    "    print(date)"
   ]
  },
  {
   "cell_type": "markdown",
   "metadata": {},
   "source": [
    "- Delete 'Darth Vader' from the dictionary"
   ]
  },
  {
   "cell_type": "code",
   "execution_count": 14,
   "metadata": {},
   "outputs": [
    {
     "name": "stdout",
     "output_type": "stream",
     "text": [
      "{'Luke Skywalker': '5/24/19', 'Obi-Wan Kenobi': '3/11/57', 'Yoda': 'unknown'}\n"
     ]
    }
   ],
   "source": [
    "birthdays.pop('Darth Vader')\n",
    "print(birthdays)"
   ]
  },
  {
   "cell_type": "markdown",
   "metadata": {},
   "source": [
    "- Make the same dictionary by using `dict()` and passing in the initial values when you first create the dictionary"
   ]
  },
  {
   "cell_type": "code",
   "execution_count": 15,
   "metadata": {},
   "outputs": [
    {
     "name": "stdout",
     "output_type": "stream",
     "text": [
      "{'Luke_Skywalker': '5/24/19', 'Obi_Wan_Kenobi': '3/11/57', 'Darth_Vader': '4/1/41'}\n"
     ]
    }
   ],
   "source": [
    "birthdays = dict(Luke_Skywalker = '5/24/19', Obi_Wan_Kenobi = '3/11/57', Darth_Vader = '4/1/41')\n",
    "print(birthdays)"
   ]
  },
  {
   "cell_type": "code",
   "execution_count": 16,
   "metadata": {},
   "outputs": [
    {
     "name": "stdout",
     "output_type": "stream",
     "text": [
      "2\n"
     ]
    }
   ],
   "source": [
    "def add_two_numbers(num1, num2):\n",
    "    sum = num1 + num2\n",
    "    return sum\n",
    "\n",
    "print(add_two_numbers(1,1))"
   ]
  },
  {
   "cell_type": "markdown",
   "metadata": {},
   "source": [
    "- Write a `cube()` function that takes a number and multiplies that number by itself twice over, returning the new value; test the function by displaying the result of calling your `cube()` function on a few different numbers."
   ]
  },
  {
   "cell_type": "code",
   "execution_count": 17,
   "metadata": {},
   "outputs": [
    {
     "name": "stdout",
     "output_type": "stream",
     "text": [
      "8 27 64\n"
     ]
    }
   ],
   "source": [
    "def cube(num):\n",
    "    return num * num * num\n",
    "\n",
    "print(cube(2), cube(3), cube(4))"
   ]
  },
  {
   "cell_type": "markdown",
   "metadata": {},
   "source": [
    "- Write a function `multiply()` that takes two numbers as inputs and multiplies them together, returning the result; test your function by saving the result of `multiply(2, 5)` in a new variable and printing it."
   ]
  },
  {
   "cell_type": "code",
   "execution_count": 18,
   "metadata": {},
   "outputs": [
    {
     "name": "stdout",
     "output_type": "stream",
     "text": [
      "10\n"
     ]
    }
   ],
   "source": [
    "def multiply(num1, num2):\n",
    "    return num1 * num2\n",
    "\n",
    "multiplyResult = multiply(2, 5)\n",
    "print(multiplyResult)"
   ]
  },
  {
   "cell_type": "markdown",
   "metadata": {},
   "source": [
    "- Write a `for` loop that prints out the integers 2 through 10, each on a new line, by using the `range()` function."
   ]
  },
  {
   "cell_type": "code",
   "execution_count": 19,
   "metadata": {},
   "outputs": [
    {
     "name": "stdout",
     "output_type": "stream",
     "text": [
      "2\n",
      "3\n",
      "4\n",
      "5\n",
      "6\n",
      "7\n",
      "8\n",
      "9\n"
     ]
    }
   ],
   "source": [
    "for n in range(2,10):\n",
    "    print(n)"
   ]
  },
  {
   "cell_type": "markdown",
   "metadata": {},
   "source": [
    "- Use a `while` loop that prints out the integers 2 through 10 (Hint: you'll need to create a new integer first; there isn't a good reason to use a while loop instead of a `for` loop in this case, but it's good practice...)."
   ]
  },
  {
   "cell_type": "code",
   "execution_count": 20,
   "metadata": {},
   "outputs": [
    {
     "name": "stdout",
     "output_type": "stream",
     "text": [
      "2\n",
      "3\n",
      "4\n",
      "5\n",
      "6\n",
      "7\n",
      "8\n",
      "9\n"
     ]
    }
   ],
   "source": [
    "integers = [2,3,4,5,6,7,8,9]\n",
    "n = 0\n",
    "while n < len(integers):\n",
    "    print(integers[n])\n",
    "    n +=1"
   ]
  },
  {
   "cell_type": "markdown",
   "metadata": {},
   "source": [
    "- Write a function called `doubles()` that takes one number as its input and doubles that number three times using a loop, displaying each result on a separate line; test your function by calling `doubles(2)` to display 4, 8, and 16."
   ]
  },
  {
   "cell_type": "code",
   "execution_count": 21,
   "metadata": {},
   "outputs": [
    {
     "name": "stdout",
     "output_type": "stream",
     "text": [
      "4\n",
      "8\n",
      "16\n"
     ]
    }
   ],
   "source": [
    "def doubles(num):\n",
    "    for i in range(3):\n",
    "        num *= 2\n",
    "        print(num)\n",
    "        \n",
    "doubles(2)"
   ]
  },
  {
   "cell_type": "markdown",
   "metadata": {},
   "source": [
    "- Figure out what the result will be ( True or False ) when evaluating the following expressions, then type them into the interactive window to check your answers:\n",
    "\n",
    "`1 <= 1` True \n",
    "\n",
    "`1 != 1` False \n",
    "\n",
    "`1 != 2` True \n",
    "\n",
    "`\"good\" != \"bad\"` True \n",
    "\n",
    "`\"good\" != \"Good\"` True \n",
    "\n",
    "`123 == \"123\"` False"
   ]
  },
  {
   "cell_type": "code",
   "execution_count": 22,
   "metadata": {},
   "outputs": [
    {
     "name": "stdout",
     "output_type": "stream",
     "text": [
      "True False True True True False\n"
     ]
    }
   ],
   "source": [
    "print(1 <= 1, 1 != 1, 1 != 2, \"good\" != \"bad\", \"good\" != \"Good\", 123 == \"123\")"
   ]
  },
  {
   "cell_type": "markdown",
   "metadata": {},
   "source": [
    "- Figure out what the result will be ( True or False ) when evaluating the following expressions, then type them into the interactive window to check your answers:\n",
    "\n",
    "`(1 <= 1) and (1 != 1)` False\n",
    "\n",
    "`not (1 != 2)` False\n",
    "\n",
    "`(\"good\" != \"bad\") or False` True\n",
    "\n",
    "`(\"good\" != \"Good\") and not (1 == 1)` False"
   ]
  },
  {
   "cell_type": "code",
   "execution_count": 23,
   "metadata": {},
   "outputs": [
    {
     "name": "stdout",
     "output_type": "stream",
     "text": [
      "False False True False\n"
     ]
    }
   ],
   "source": [
    "print((1 <= 1) and (1 != 1), not (1 != 2), (\"good\" != \"bad\") or False, (\"good\" != \"Good\") and not (1 == 1))"
   ]
  },
  {
   "cell_type": "markdown",
   "metadata": {},
   "source": [
    "- Write a script that prompts the user to enter a word using the `input()` function, stores that input in a variable, and then displays whether the length of that string is less than 5 characters, greater than 5 characters, or equal to 5 characters by using a set of `if` , `elif` and `else` statements."
   ]
  },
  {
   "cell_type": "code",
   "execution_count": 24,
   "metadata": {},
   "outputs": [
    {
     "name": "stdout",
     "output_type": "stream",
     "text": [
      "Enter your word рфівофірпв\n",
      "lenght is greater than 5 characters\n"
     ]
    }
   ],
   "source": [
    "inpt = input(\"Enter your word \")\n",
    "if(len(inpt) < 5):\n",
    "    print(\"lenght is less than 5 characters\")\n",
    "elif(len(inpt) == 5):\n",
    "    print(\"lenght is 5 characters\")\n",
    "else:\n",
    "    print(\"lenght is greater than 5 characters\")"
   ]
  },
  {
   "cell_type": "markdown",
   "metadata": {},
   "source": [
    "-  Define a function that takes a list of numbers, `[2, 4, 8, 16, 32, 64]` , as the argument and then outputs only the numbers from the list that fall between 1 and 20 (inclusive)."
   ]
  },
  {
   "cell_type": "code",
   "execution_count": 25,
   "metadata": {},
   "outputs": [
    {
     "name": "stdout",
     "output_type": "stream",
     "text": [
      "2\n",
      "4\n",
      "8\n",
      "16\n"
     ]
    }
   ],
   "source": [
    "def betw1And20(listOfNumbers):\n",
    "    for numb in listOfNumbers:\n",
    "        if numb in range(1,21):\n",
    "            print(numb)\n",
    "\n",
    "betw1And20([2, 4, 8, 16, 32, 64])"
   ]
  },
  {
   "cell_type": "markdown",
   "metadata": {},
   "source": [
    "## Convert temperatures\n",
    "Write a script that includes two functions. One function takes a Celsius temperature as its input, converts that number into the equivalent Fahrenheit temperature and returns that value. The second function takes a Fahrenheit temperature and returns the equivalent Celsius temperature. Test your functions by passing input values to them and printing the output results.\n",
    "\n",
    "For testing your functions, example output should look like:\n",
    "\n",
    "`72 degrees F = 22.2222222222 degrees C`\n",
    "\n",
    "`37 degrees C = 98.6 degrees F`\n",
    "\n",
    "In case you didn't want to spend a minute searching the web or doing algebra (the horror!), the relevant conversion formulas are:\n",
    "1. F = C * 9/5 + 32\n",
    "2. C = (F - 32) * 5/9"
   ]
  },
  {
   "cell_type": "code",
   "execution_count": 26,
   "metadata": {},
   "outputs": [
    {
     "name": "stdout",
     "output_type": "stream",
     "text": [
      "161.6\n",
      "2.78\n"
     ]
    }
   ],
   "source": [
    "def celsiusToFahrenheit(temp):\n",
    "    return round(temp*(9/5) +32, 2)\n",
    "def fahrenheitToCelsius(temp):\n",
    "    return round((temp-32)*(5/9), 2)\n",
    "\n",
    "print(celsiusToFahrenheit(72))\n",
    "print(fahrenheitToCelsius(37))"
   ]
  },
  {
   "cell_type": "markdown",
   "metadata": {},
   "source": [
    "## Track your investments\n",
    "Write a script that will track the growing amount of an investment over time. This script includes an `invest()` function that takes three inputs: the initial investment amount, the annual compounding rate, and the total number of years to invest. So, the first line of the function will look like this:\n",
    "\n",
    "`def invest(amount, rate, time):`\n",
    "\n",
    "The function then prints out the amount of the investment for every year of the time period.\n",
    "\n",
    "In the main body of the script (after defining the function), use the following code to test your function:\n",
    "\n",
    "`invest(100, .05, 8)`\n",
    "\n",
    "`invest(2000, .025, 5)`\n",
    "\n",
    "Running this test code should produce the following output exactly:"
   ]
  },
  {
   "cell_type": "code",
   "execution_count": 27,
   "metadata": {},
   "outputs": [
    {
     "name": "stdout",
     "output_type": "stream",
     "text": [
      "principal amount: 100\n",
      "annual rate of return: 0.05\n",
      "year 1: $105.0\n",
      "year 1: $110.25\n",
      "year 1: $115.7625\n",
      "year 1: $121.550625\n",
      "year 1: $127.62815625\n",
      "year 1: $134.009564063\n",
      "year 1: $140.710042266\n",
      "year 1: $147.745544379\n",
      "principal amount: 2000\n",
      "annual rate of return: 0.025\n",
      "year 1: $2050.0\n",
      "year 1: $2101.25\n",
      "year 1: $2153.78125\n",
      "year 1: $2207.62578125\n",
      "year 1: $2262.816425781\n"
     ]
    }
   ],
   "source": [
    "def invest(amount, rate, time):\n",
    "    print(\"principal amount:\", amount)\n",
    "    print(\"annual rate of return:\", rate)\n",
    "    rate+=1\n",
    "    for n in range(time):\n",
    "        amount *= rate\n",
    "        print(\"year 1: $\" + str(round(amount, 9)))\n",
    "\n",
    "invest(100, .05, 8)\n",
    "invest(2000, .025, 5)"
   ]
  },
  {
   "cell_type": "raw",
   "metadata": {},
   "source": [
    "principal amount: $100\n",
    "annual rate of return: 0.05\n",
    "year 1: $105.0\n",
    "year 2: $110.25\n",
    "year 3: $115.7625\n",
    "year 4: $121.550625\n",
    "year 5: $127.62815625\n",
    "year 6: $134.009564063\n",
    "year 7: $140.710042266\n",
    "year 8: $147.745544379\n",
    "\n",
    "principal amount: $2000\n",
    "annual rate of return: 0.025\n",
    "year 1: $2050.0\n",
    "year 2: $2101.25\n",
    "year 3: $2153.78125\n",
    "year 4: $2207.62578125\n",
    "year 5: $2262.81642578\n"
   ]
  },
  {
   "cell_type": "markdown",
   "metadata": {},
   "source": [
    "**NOTE:** Although functions usually return output values, this is entirely optional in Python. Functions themselves can print output directly as well. You can print as much as you like from inside a function, and the function will continue running until you reach its end.*\n",
    "\n",
    "**Some additional pointers if you're stuck:**\n",
    "\n",
    "1. You will need to use a `for` loop over a range that's based on the function's time input.\n",
    "2. Within your loop, you will need to reassign a new value to the amount every year based on how it grows at 1 + rate.\n",
    "3. Remember that you need to use either the string `format()` method or `str()` to convert numbers to strings first if you want to print both strings and numbers in a single statement.\n",
    "4. Using the `print()` function without passing any arguments will print a blank line."
   ]
  },
  {
   "cell_type": "markdown",
   "metadata": {},
   "source": [
    "## Find the factors of a number\n",
    "Write a script that includes a function to find all of the integers that divide evenly into an integer provided by the user. A sample run of the program should look like this (with the user's input highlighted in bold):\n",
    "\n",
    "`>>>`\n",
    "\n",
    "`Enter a positive integer: 12`\n",
    "\n",
    "`1 is a divisor of 12`\n",
    "\n",
    "`2 is a divisor of 12`\n",
    "\n",
    "`3 is a divisor of 12`\n",
    "\n",
    "`4 is a divisor of 12`\n",
    "\n",
    "`6 is a divisor of 12`\n",
    "\n",
    "`12 is a divisor of 12`\n",
    "\n",
    "`>>>`\n",
    "\n",
    "You should use the `%` operator to check divisibility. This is called the **\"modulus operator\"** and is represented by a percent symbol in Python. It returns the remainder of any division. For instance, 3 goes into 16 a total of 5 times with a remainder of 1, therefore 16 % 3 returns 1. Meanwhile, since 15 is divisible by 3, 15 % 3 returns 0.\n",
    "\n",
    "Also keep in mind that `input()` always returns a string, so you will need to convert this value to an integer before using it in any calculations."
   ]
  },
  {
   "cell_type": "code",
   "execution_count": 28,
   "metadata": {},
   "outputs": [
    {
     "name": "stdout",
     "output_type": "stream",
     "text": [
      "Enter a positive integer: 12\n",
      "1 is a divisor of 12\n",
      "2 is a divisor of 12\n",
      "3 is a divisor of 12\n",
      "4 is a divisor of 12\n",
      "6 is a divisor of 12\n",
      "12 is a divisor of 12\n"
     ]
    }
   ],
   "source": [
    "def factorsOfNumb():\n",
    "    numb = int(input(\"Enter a positive integer: \"))\n",
    "    if numb > 0:\n",
    "        for i in range(1, numb+1):\n",
    "            if numb % i == 0:\n",
    "                print(\"{first} is a divisor of {second}\".format(first = i, second = numb))\n",
    "    else:\n",
    "        print(\"Please, enter POSITIVE number\")\n",
    "\n",
    "factorsOfNumb()"
   ]
  }
 ],
 "metadata": {
  "kernelspec": {
   "display_name": "Python 3",
   "language": "python",
   "name": "python3"
  },
  "language_info": {
   "codemirror_mode": {
    "name": "ipython",
    "version": 3
   },
   "file_extension": ".py",
   "mimetype": "text/x-python",
   "name": "python",
   "nbconvert_exporter": "python",
   "pygments_lexer": "ipython3",
   "version": "3.8.5"
  },
  "varInspector": {
   "cols": {
    "lenName": 16,
    "lenType": 16,
    "lenVar": 40
   },
   "kernels_config": {
    "python": {
     "delete_cmd_postfix": "",
     "delete_cmd_prefix": "del ",
     "library": "var_list.py",
     "varRefreshCmd": "print(var_dic_list())"
    },
    "r": {
     "delete_cmd_postfix": ") ",
     "delete_cmd_prefix": "rm(",
     "library": "var_list.r",
     "varRefreshCmd": "cat(var_dic_list()) "
    }
   },
   "types_to_exclude": [
    "module",
    "function",
    "builtin_function_or_method",
    "instance",
    "_Feature"
   ],
   "window_display": false
  }
 },
 "nbformat": 4,
 "nbformat_minor": 4
}
