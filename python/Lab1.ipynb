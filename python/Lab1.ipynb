{
 "cells": [
  {
   "cell_type": "markdown",
   "metadata": {},
   "source": [
    "## Review exercises:"
   ]
  },
  {
   "cell_type": "markdown",
   "metadata": {},
   "source": [
    "- Write a script that Jupyter won't let you run because it has a syntax error."
   ]
  },
  {
   "cell_type": "code",
   "execution_count": 1,
   "metadata": {},
   "outputs": [],
   "source": [
    "#pirnt(\"h\"ello\")"
   ]
  },
  {
   "cell_type": "markdown",
   "metadata": {},
   "source": [
    "- Write a script that will only crash your program once it is already running because it has a run-time error."
   ]
  },
  {
   "cell_type": "code",
   "execution_count": 2,
   "metadata": {},
   "outputs": [],
   "source": [
    "#x = \"2\"\n",
    "# y = 2\n",
    "# print(x + y)"
   ]
  },
  {
   "cell_type": "markdown",
   "metadata": {},
   "source": [
    "- Display some text on the screen by using print."
   ]
  },
  {
   "cell_type": "code",
   "execution_count": 3,
   "metadata": {},
   "outputs": [
    {
     "name": "stdout",
     "output_type": "stream",
     "text": [
      "Hello ITSU!\n"
     ]
    }
   ],
   "source": [
    "print(\"Hello ITSU!\")"
   ]
  },
  {
   "cell_type": "markdown",
   "metadata": {},
   "source": [
    "- Display a string of text by saving the string to a variable, then printing the contents of that variable."
   ]
  },
  {
   "cell_type": "code",
   "execution_count": 4,
   "metadata": {},
   "outputs": [
    {
     "name": "stdout",
     "output_type": "stream",
     "text": [
      "Hello ITSU!\n"
     ]
    }
   ],
   "source": [
    "text = \"Hello ITSU!\"\n",
    "print(text)"
   ]
  },
  {
   "cell_type": "markdown",
   "metadata": {},
   "source": [
    "- Print a string that uses double quotation marks inside the string."
   ]
  },
  {
   "cell_type": "code",
   "execution_count": 5,
   "metadata": {},
   "outputs": [
    {
     "name": "stdout",
     "output_type": "stream",
     "text": [
      "Let's say \"hello\" \n"
     ]
    }
   ],
   "source": [
    "print(\"Let's say \\\"hello\\\" \")"
   ]
  },
  {
   "cell_type": "markdown",
   "metadata": {},
   "source": [
    "- Print a string that uses an apostrophe (single quote) inside the string."
   ]
  },
  {
   "cell_type": "code",
   "execution_count": 6,
   "metadata": {},
   "outputs": [
    {
     "name": "stdout",
     "output_type": "stream",
     "text": [
      "hell'no\n"
     ]
    }
   ],
   "source": [
    "print(\"hell'no\")"
   ]
  },
  {
   "cell_type": "markdown",
   "metadata": {},
   "source": [
    "- Print a string that spans across multiple lines."
   ]
  },
  {
   "cell_type": "code",
   "execution_count": 7,
   "metadata": {},
   "outputs": [
    {
     "name": "stdout",
     "output_type": "stream",
     "text": [
      "haha \n",
      " haha \n",
      " haha\n"
     ]
    }
   ],
   "source": [
    "# multipleLineString = \"\"\"\n",
    "#       haha\n",
    "#       hahah\n",
    "#       hahah\n",
    "#       \"\"\"\n",
    "multipleLineString = \"haha \\n haha \\n haha\"\n",
    "print(multipleLineString)"
   ]
  },
  {
   "cell_type": "markdown",
   "metadata": {},
   "source": [
    "- Print a one-line string that you have written out on multiple lines."
   ]
  },
  {
   "cell_type": "code",
   "execution_count": 8,
   "metadata": {},
   "outputs": [
    {
     "name": "stdout",
     "output_type": "stream",
     "text": [
      "haha  haha  haha\n"
     ]
    }
   ],
   "source": [
    "multipleLineString = multipleLineString.replace(\"\\n\", \"\")\n",
    "print(multipleLineString)"
   ]
  },
  {
   "cell_type": "markdown",
   "metadata": {},
   "source": [
    "- Create a string and print its length using the `len()` function."
   ]
  },
  {
   "cell_type": "code",
   "execution_count": 9,
   "metadata": {},
   "outputs": [
    {
     "name": "stdout",
     "output_type": "stream",
     "text": [
      "14\n"
     ]
    }
   ],
   "source": [
    "strWithLen = \"Helllllloooooo\"\n",
    "print(len(strWithLen))"
   ]
  },
  {
   "cell_type": "markdown",
   "metadata": {},
   "source": [
    "- Create two strings, concatenate them (add them next to each other) and print the combination of the two strings."
   ]
  },
  {
   "cell_type": "code",
   "execution_count": 10,
   "metadata": {},
   "outputs": [
    {
     "name": "stdout",
     "output_type": "stream",
     "text": [
      "OneTwo\n"
     ]
    }
   ],
   "source": [
    "strOne = \"One\"\n",
    "strTwo = \"Two\"\n",
    "strThree = strOne + strTwo\n",
    "print(strThree)"
   ]
  },
  {
   "cell_type": "markdown",
   "metadata": {},
   "source": [
    "- Create two string variables, then print one of them after the other (with a space added in between) using a comma in your print statement."
   ]
  },
  {
   "cell_type": "code",
   "execution_count": 11,
   "metadata": {},
   "outputs": [
    {
     "name": "stdout",
     "output_type": "stream",
     "text": [
      "One Two\n"
     ]
    }
   ],
   "source": [
    "print(strOne, strTwo)"
   ]
  },
  {
   "cell_type": "markdown",
   "metadata": {},
   "source": [
    "- Print the string \"zing\" by using subscripting and index numbers on the string \"bazinga\" to specify the correct range of characters."
   ]
  },
  {
   "cell_type": "code",
   "execution_count": 12,
   "metadata": {},
   "outputs": [
    {
     "name": "stdout",
     "output_type": "stream",
     "text": [
      "zing\n"
     ]
    }
   ],
   "source": [
    "bazinga = \"bazinga\"\n",
    "print(bazinga[2:6])"
   ]
  },
  {
   "cell_type": "markdown",
   "metadata": {},
   "source": [
    "- Write a script that takes input from the user and displays that input back."
   ]
  },
  {
   "cell_type": "code",
   "execution_count": 13,
   "metadata": {},
   "outputs": [
    {
     "name": "stdout",
     "output_type": "stream",
     "text": [
      "enter smth hahahah\n",
      "hahahah\n"
     ]
    }
   ],
   "source": [
    "backinp = input(\"enter smth \")\n",
    "print(backinp)"
   ]
  },
  {
   "cell_type": "markdown",
   "metadata": {},
   "source": [
    "- View all the methods of a string object, then write a script that returns the lower-case version of a string."
   ]
  },
  {
   "cell_type": "code",
   "execution_count": 14,
   "metadata": {},
   "outputs": [
    {
     "name": "stdout",
     "output_type": "stream",
     "text": [
      "hello itsu!\n"
     ]
    }
   ],
   "source": [
    "print(text.lower())"
   ]
  },
  {
   "cell_type": "markdown",
   "metadata": {},
   "source": [
    "- Create a string object that stores an integer as its value, then convert that string into an actual integer object using `int()` ; test that your new object is really a number by multiplying it by another number and displaying the result."
   ]
  },
  {
   "cell_type": "code",
   "execution_count": 15,
   "metadata": {},
   "outputs": [
    {
     "name": "stdout",
     "output_type": "stream",
     "text": [
      "44\n"
     ]
    }
   ],
   "source": [
    "notNumb = \"22\"\n",
    "numb = int(notNumb)\n",
    "print(numb*2)"
   ]
  },
  {
   "cell_type": "markdown",
   "metadata": {},
   "source": [
    "- Repeat the previous exercise, but use a floating-point number and `float()`."
   ]
  },
  {
   "cell_type": "code",
   "execution_count": 16,
   "metadata": {},
   "outputs": [
    {
     "name": "stdout",
     "output_type": "stream",
     "text": [
      "488.84\n"
     ]
    }
   ],
   "source": [
    "notNumbf = \"22.22\"\n",
    "numbf = float(notNumbf)\n",
    "print(numbf*22)"
   ]
  },
  {
   "cell_type": "markdown",
   "metadata": {},
   "source": [
    "- Create a string object and an integer object, then display them side-by-side with a single print statement by using the `str()` function."
   ]
  },
  {
   "cell_type": "code",
   "execution_count": 17,
   "metadata": {},
   "outputs": [
    {
     "name": "stdout",
     "output_type": "stream",
     "text": [
      "22 22\n"
     ]
    }
   ],
   "source": [
    "print(notNumb, str(numb))"
   ]
  },
  {
   "cell_type": "markdown",
   "metadata": {},
   "source": [
    "- Create a \"float\" object (a decimal number) named `weight` that holds the value 0.2, and create a string object named `animal` that holds the value \"newt\", then use these objects to print the following line without using the `format()` string method: 0.2 kg is the weight of the newt."
   ]
  },
  {
   "cell_type": "code",
   "execution_count": 18,
   "metadata": {},
   "outputs": [
    {
     "name": "stdout",
     "output_type": "stream",
     "text": [
      "0.2 kg is the weight of the newt\n"
     ]
    }
   ],
   "source": [
    "weight = 0.2\n",
    "animal = \"newt\"\n",
    "print(str(weight) + \" kg is the weight of the \" + animal)"
   ]
  },
  {
   "cell_type": "markdown",
   "metadata": {},
   "source": [
    "- Display the same line using `format()` and empty `{}` place-holders."
   ]
  },
  {
   "cell_type": "code",
   "execution_count": 19,
   "metadata": {},
   "outputs": [
    {
     "name": "stdout",
     "output_type": "stream",
     "text": [
      "0.2 kg is the weight of the newt\n"
     ]
    }
   ],
   "source": [
    "print(\"{} kg is the weight of the {}\".format(str(weight), animal))"
   ]
  },
  {
   "cell_type": "markdown",
   "metadata": {},
   "source": [
    "- Display the same line using `{}` place-holders that use the index numbers of the inputs provided to the format() method."
   ]
  },
  {
   "cell_type": "code",
   "execution_count": 20,
   "metadata": {},
   "outputs": [
    {
     "name": "stdout",
     "output_type": "stream",
     "text": [
      "0.2 kg is the weight of the newt\n"
     ]
    }
   ],
   "source": [
    "print(\"{0} kg is the weight of the {1}\".format(str(weight), animal))"
   ]
  },
  {
   "cell_type": "markdown",
   "metadata": {},
   "source": [
    "- Display the same line by creating new string and float objects inside of the `format()` method."
   ]
  },
  {
   "cell_type": "code",
   "execution_count": 21,
   "metadata": {},
   "outputs": [
    {
     "name": "stdout",
     "output_type": "stream",
     "text": [
      "0.2 kg is the weight of the newt\n"
     ]
    }
   ],
   "source": [
    "print(\"{0} kg is the weight of the {1}\".format(str(0.2), \"newt\"))"
   ]
  },
  {
   "cell_type": "markdown",
   "metadata": {},
   "source": [
    "- Display the same line by creating a formatted string literal that directly uses the `weight` and `animal` variables."
   ]
  },
  {
   "cell_type": "code",
   "execution_count": 22,
   "metadata": {},
   "outputs": [
    {
     "name": "stdout",
     "output_type": "stream",
     "text": [
      "0.2 kg is the weight of the newt\n"
     ]
    }
   ],
   "source": [
    "print(\"{weight} kg is the weight of the {animal}\".format(weight = str(weight), animal = animal))"
   ]
  },
  {
   "cell_type": "markdown",
   "metadata": {},
   "source": [
    "- In one line, display the result of trying to `find()` the substring \"a\" in the string \"AAA\"; the result should be -1."
   ]
  },
  {
   "cell_type": "code",
   "execution_count": 23,
   "metadata": {},
   "outputs": [
    {
     "name": "stdout",
     "output_type": "stream",
     "text": [
      "-1\n"
     ]
    }
   ],
   "source": [
    "print(\"AAA\".find(\"a\"))"
   ]
  },
  {
   "cell_type": "markdown",
   "metadata": {},
   "source": [
    "- Create a string object that contains the value \"version 2.0\"; `find()` the first occurrence of the number 2.0 inside of this string by first creating a \"float\" object that stores the value 2.0 as a floating-point number, then converting that object to a string using the `str()` function."
   ]
  },
  {
   "cell_type": "code",
   "execution_count": 24,
   "metadata": {},
   "outputs": [
    {
     "name": "stdout",
     "output_type": "stream",
     "text": [
      "2.0\n"
     ]
    }
   ],
   "source": [
    "ver = \"version 2.0\"\n",
    "verFloat = float(ver[ver.find(\"2.0\"):(ver.find(\"2.0\")+3)])\n",
    "print(str(verFloat))"
   ]
  },
  {
   "cell_type": "markdown",
   "metadata": {},
   "source": [
    "- Write and test a script that accepts user input using `input()`, then displays the result of trying to `find()` a particular letter in that input."
   ]
  },
  {
   "cell_type": "code",
   "execution_count": 25,
   "metadata": {},
   "outputs": [
    {
     "name": "stdout",
     "output_type": "stream",
     "text": [
      "Enter text: gagaggaga\n",
      "Enter letter: f\n",
      "There is nof in your text\n"
     ]
    }
   ],
   "source": [
    "userText = input(\"Enter text: \")\n",
    "userLetter = input(\"Enter letter: \")\n",
    "result =  userText.find(userLetter[0])\n",
    "print(\"There is \" + userLetter[0] + \" on index \" + str(result) if result != -1 else \"There is no\" + userLetter[0] + \" in your text\")"
   ]
  },
  {
   "cell_type": "markdown",
   "metadata": {},
   "source": [
    "## Pick apart your user's input\n",
    "Write a script that first prompts the user for input by using the string: `Tell me your password:`\n",
    "\n",
    "The script should then determine the first letter of the user's input, convert that letter to upper-case, and display it back. As an example, if the user input was \"no\" then the program should respond like this: The first letter you entered was: N\n",
    "\n",
    "For now, it's okay if your program crashes when the user enters nothing as input (just hitting ENTER instead)."
   ]
  },
  {
   "cell_type": "code",
   "execution_count": null,
   "metadata": {},
   "outputs": [],
   "source": [
    "print(\"The first letter you entered was: \"+ input(\"Tell me your password:\")[0].upper())"
   ]
  },
  {
   "cell_type": "markdown",
   "metadata": {},
   "source": [
    "## Turn your user into a l33t h4x0r\n",
    "**Leet** (укр. **літ**) (або \"1337\"), також відомий як **eleet** чи **leetspeak** (пропонований український варіант перекладу — **замісникі́вка**) — альтернативний стиль застосування мови, що використовується переважно в інтернеті. Використовуються різноманітні комбінації ASCII символів для заміни літер, що візуально можуть нагадувати справжні букви.\n",
    "\n",
    "Write a script that asks the user for some input with the following prompt: `Enter some text:`\n",
    "\n",
    "You should then use the `replace()` method to convert the text entered by the user into __[\"leetspeak\"](https://uk.wikipedia.org/wiki/Leet)__ by making the following changes to lower-case letters:\n",
    "\n",
    "- The letter: a becomes: 4\n",
    "- The letter: b becomes: 8\n",
    "- The letter: e becomes: 3\n",
    "- The letter: l becomes: 1\n",
    "- The letter: o becomes: 0\n",
    "- The letter: s becomes: 5\n",
    "- The letter: t becomes: 7\n",
    "\n",
    "Your program should then display the resulting output. A sample run of the program,\n",
    "with the user input in bold, is shown below:\n",
    "\n",
    "`>>> Enter some text: I like to eat eggs and spam.`\n",
    "\n",
    "`I 1ik3 70 347 3gg5 4nd 5p4m.`\n",
    "\n",
    "`>>>`"
   ]
  },
  {
   "cell_type": "code",
   "execution_count": null,
   "metadata": {},
   "outputs": [],
   "source": [
    "print(input(\"Enter some text: \").replace(\"a\", \"4\").replace(\"b\", \"8\").replace(\"e\", \"3\").replace(\"l\", \"1\").replace(\"o\", \"0\").replace(\"s\", \"5\").replace(\"t\", \"7\"))"
   ]
  },
  {
   "cell_type": "markdown",
   "metadata": {},
   "source": [
    "## Perform calculations on user input\n",
    "Write a script called that receives two numbers from the user and displays the result of taking the first number to the power of the second number. A sample run of the program should look like this (with example input that has been provided by the user included below):\n",
    "\n",
    "`>>>`\n",
    "\n",
    "`Enter a base: 1.2`\n",
    "\n",
    "`Enter an exponent: 3`\n",
    "\n",
    "`1.2 to the power of 3 = 1.728`\n",
    "\n",
    "`>>>`\n",
    "\n",
    "**Keep the following in mind:**\n",
    "\n",
    "1. In Python, x^y (x raised to the power y) is calculated by using the expression `x ** y`.\n",
    "2. Before you can do anything with the user's input, you will have to store the results of both calls to `input()` in new objects.\n",
    "3. The `input()` function returns a string object, so you will need to convert the user's input into numbers in order to do arithmetic on them.\n",
    "4. You should use the string `format()` method to print the result.\n",
    "5. You can assume that the user will enter actual numbers as input."
   ]
  },
  {
   "cell_type": "code",
   "execution_count": null,
   "metadata": {
    "scrolled": true
   },
   "outputs": [],
   "source": [
    "base = float(input(\"Enter a base: \"))\n",
    "exp = float(input(\"Enter an exponent: \"))\n",
    "print(\"{0} to the power of {1} = {2}\".format(base, exp, round(base ** exp, 3)))"
   ]
  }
 ],
 "metadata": {
  "kernelspec": {
   "display_name": "Python 3",
   "language": "python",
   "name": "python3"
  },
  "language_info": {
   "codemirror_mode": {
    "name": "ipython",
    "version": 3
   },
   "file_extension": ".py",
   "mimetype": "text/x-python",
   "name": "python",
   "nbconvert_exporter": "python",
   "pygments_lexer": "ipython3",
   "version": "3.8.5"
  },
  "varInspector": {
   "cols": {
    "lenName": 16,
    "lenType": 16,
    "lenVar": 40
   },
   "kernels_config": {
    "python": {
     "delete_cmd_postfix": "",
     "delete_cmd_prefix": "del ",
     "library": "var_list.py",
     "varRefreshCmd": "print(var_dic_list())"
    },
    "r": {
     "delete_cmd_postfix": ") ",
     "delete_cmd_prefix": "rm(",
     "library": "var_list.r",
     "varRefreshCmd": "cat(var_dic_list()) "
    }
   },
   "types_to_exclude": [
    "module",
    "function",
    "builtin_function_or_method",
    "instance",
    "_Feature"
   ],
   "window_display": false
  }
 },
 "nbformat": 4,
 "nbformat_minor": 4
}
