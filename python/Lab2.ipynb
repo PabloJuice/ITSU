{
 "cells": [
  {
   "cell_type": "markdown",
   "metadata": {},
   "source": [
    "In the last few exercises you've learned everything there is to know about heights and weights of baseball players. Now it's time to dive into another sport: soccer.\n",
    "\n",
    "You've contacted FIFA for some data and they handed you two lists. The lists are the following:"
   ]
  },
  {
   "cell_type": "code",
   "execution_count": 2,
   "metadata": {},
   "outputs": [
    {
     "name": "stdout",
     "output_type": "stream",
     "text": [
      "positions = ['GK', 'M', 'A', 'D', 'M']\n",
      "heights = [191, 184, 185, 180, 181]\n"
     ]
    }
   ],
   "source": [
    "import pandas as pd\n",
    "df_fifa = pd.read_csv('fifa.csv', index_col = 0)\n",
    "heights = df_fifa['height'].tolist()\n",
    "positions = df_fifa['position'].tolist()\n",
    "print('positions =', positions[:5])\n",
    "print('heights =', heights[:5])"
   ]
  },
  {
   "cell_type": "markdown",
   "metadata": {},
   "source": [
    "Each element in the lists corresponds to a player. The first list, `positions`, contains strings representing each player's position. The possible positions are: `'GK'` (goalkeeper), `'M'` (midfield), `'A'` (attack) and `'D'` (defense). The second list, `heights`, contains integers representing the height of the player in cm. The first player in the lists is a goalkeeper and is pretty tall (191 cm).\n",
    "\n",
    "You're fairly confident that the median height of goalkeepers is higher than that of other players on the soccer field. Some of your friends don't believe you, so you are determined to show them using the data you received from FIFA and your newly acquired Python skills.\n",
    "\n",
    "**INSTRUCTIONS**\n",
    "\n",
    "- Convert `heights` and `positions`, which are regular lists, to numpy arrays. Call them `np_heights` and `np_positions`.\n",
    "- Extract all the heights of the goalkeepers. You can use a little trick here: use `np_positions == 'GK'` as an index for `np_heights`. Assign the result to `gk_heights`.\n",
    "- Extract all the heights of all the other players. This time use `np_positions != 'GK'` as an index for `np_heights`. Assign the result to `other_heights`.\n",
    "- Print out the median height of the goalkeepers using `np.median()`. Replace `None` with the correct code.\n",
    "- Do the same for the other players. Print out their median height. Replace `None` with the correct code."
   ]
  },
  {
   "cell_type": "code",
   "execution_count": 11,
   "metadata": {},
   "outputs": [
    {
     "name": "stdout",
     "output_type": "stream",
     "text": [
      "Median height of goalkeepers: 188.0\n",
      "Median height of other players: 181.0\n"
     ]
    }
   ],
   "source": [
    "# heights and positions are available as lists\n",
    "\n",
    "# Import numpy\n",
    "import numpy as np\n",
    "import pandas as pd\n",
    "# Convert positions and heights to numpy arrays: np_positions, np_heights\n",
    "df_fifa = pd.read_csv('fifa.csv', usecols = ['position','height'])\n",
    "\n",
    "heights = df_fifa['height'].tolist()\n",
    "positions = df_fifa['position'].tolist()\n",
    "\n",
    "np_heights = np.array(heights)\n",
    "np_positions = np.array(positions)\n",
    "\n",
    "# Creating numpy arrays\n",
    "np_heights = np.array(heights)\n",
    "np_positions = np.array(positions)\n",
    "\n",
    "# Extracting heights of the GKs and others\n",
    "gk_heights = np_heights[np_positions == 'GK']\n",
    "other_heights = np_heights[np_positions != 'GK']\n",
    "\n",
    "print(\"Median height of goalkeepers: \" + str(np.median(gk_heights)))\n",
    "\n",
    "print(\"Median height of other players: \" + str(np.median(other_heights)))"
   ]
  },
  {
   "cell_type": "code",
   "execution_count": 4,
   "metadata": {},
   "outputs": [
    {
     "name": "stdout",
     "output_type": "stream",
     "text": [
      "Median height of goalkeepers: 188.0\n",
      "Median height of other players: 181.0\n"
     ]
    }
   ],
   "source": [
    "df_fifa = pd.read_csv('fifa.csv', usecols = ['position','height'])\n",
    "print(\"Median height of goalkeepers:\", df_fifa.fillna(0).loc[df_fifa[\"position\"] == \"GK\", \"height\"].median())\n",
    "print(\"Median height of other players:\", df_fifa.fillna(0).loc[df_fifa[\"position\"] != \"GK\", \"height\"].median())"
   ]
  },
  {
   "cell_type": "code",
   "execution_count": 5,
   "metadata": {
    "scrolled": true
   },
   "outputs": [
    {
     "ename": "SyntaxError",
     "evalue": "invalid syntax (<ipython-input-5-de328dc54d93>, line 1)",
     "output_type": "error",
     "traceback": [
      "\u001b[1;36m  File \u001b[1;32m\"<ipython-input-5-de328dc54d93>\"\u001b[1;36m, line \u001b[1;32m1\u001b[0m\n\u001b[1;33m    суму стан выдхил голк вищ180 і мед зросту зах нижч 190\u001b[0m\n\u001b[1;37m         ^\u001b[0m\n\u001b[1;31mSyntaxError\u001b[0m\u001b[1;31m:\u001b[0m invalid syntax\n"
     ]
    }
   ],
   "source": [
    "суму стандарт выдхил голк вищ180 і мед зросту зах нижч 190"
   ]
  },
  {
   "cell_type": "code",
   "execution_count": 17,
   "metadata": {},
   "outputs": [
    {
     "name": "stdout",
     "output_type": "stream",
     "text": [
      "185.87705787482588\n",
      "185.87705787482588\n"
     ]
    }
   ],
   "source": [
    "print(np.std(np.array(df_fifa.loc[df_fifa[\"position\"] == \"GK\", \"height\"].tolist()) \\\n",
    "             [np.array(df_fifa.loc[df_fifa[\"position\"] == \"GK\", \"height\"].tolist()) >180]) + \\\n",
    "      np.array(df_fifa.loc[df_fifa[\"position\"] == \"D\", \"height\"].tolist()) \\\n",
    "      [np.array(df_fifa.loc[df_fifa[\"position\"] == \"D\", \"height\"].tolist()) < 190].mean())\n",
    "\n",
    "print(np.std(np_heights[(np_positions == \"GK\") & (np_heights > 180)]) + \\\n",
    "      np_heights[(np_positions == \"D\") & (np_heights < 190)].mean())"
   ]
  },
  {
   "cell_type": "code",
   "execution_count": 6,
   "metadata": {},
   "outputs": [
    {
     "ename": "SyntaxError",
     "evalue": "invalid syntax (<ipython-input-6-1a6f22bf8e27>, line 1)",
     "output_type": "error",
     "traceback": [
      "\u001b[1;36m  File \u001b[1;32m\"<ipython-input-6-1a6f22bf8e27>\"\u001b[1;36m, line \u001b[1;32m1\u001b[0m\n\u001b[1;33m    6 на 9 половину і третину\u001b[0m\n\u001b[1;37m      ^\u001b[0m\n\u001b[1;31mSyntaxError\u001b[0m\u001b[1;31m:\u001b[0m invalid syntax\n"
     ]
    }
   ],
   "source": [
    "6 на 9 половину 1 і третину 3 (n i m) (2x i 3x)"
   ]
  }
 ],
 "metadata": {
  "kernelspec": {
   "display_name": "Python 3",
   "language": "python",
   "name": "python3"
  },
  "language_info": {
   "codemirror_mode": {
    "name": "ipython",
    "version": 3
   },
   "file_extension": ".py",
   "mimetype": "text/x-python",
   "name": "python",
   "nbconvert_exporter": "python",
   "pygments_lexer": "ipython3",
   "version": "3.8.5"
  },
  "varInspector": {
   "cols": {
    "lenName": 16,
    "lenType": 16,
    "lenVar": 40
   },
   "kernels_config": {
    "python": {
     "delete_cmd_postfix": "",
     "delete_cmd_prefix": "del ",
     "library": "var_list.py",
     "varRefreshCmd": "print(var_dic_list())"
    },
    "r": {
     "delete_cmd_postfix": ") ",
     "delete_cmd_prefix": "rm(",
     "library": "var_list.r",
     "varRefreshCmd": "cat(var_dic_list()) "
    }
   },
   "types_to_exclude": [
    "module",
    "function",
    "builtin_function_or_method",
    "instance",
    "_Feature"
   ],
   "window_display": false
  }
 },
 "nbformat": 4,
 "nbformat_minor": 4
}
