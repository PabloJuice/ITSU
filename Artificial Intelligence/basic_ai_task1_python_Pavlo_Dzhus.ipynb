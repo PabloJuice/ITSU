{
 "cells": [
  {
   "cell_type": "markdown",
   "metadata": {
    "id": "HXiPVw_feCSb"
   },
   "source": [
    "## Завдання на лабораторну работу №1\n",
    "\n",
    "В цій лабораторної роботі Вам буде запропоновано вирішити кілька завдань скориставшись засобами мови python. Рішення кожного завдання передбачає написання коду і демонстрація його працездатності на прикладах.\n",
    "\n",
    "[зверніть увагу на типізацію функцій](https://docs.python.org/3/library/typing.html)\n",
    "\n",
    "```NB```: При написанні коду не забувайте видаляти ```pass```!"
   ]
  },
  {
   "cell_type": "markdown",
   "metadata": {
    "id": "IPQHbkSueCSf"
   },
   "source": [
    "Перед тим, як надіслати своє завдання на перевірку, вкажіть в назві файлу своє ім'я та прізвище!\n",
    "Наприклад: ```basic_ai_task1_python_ana_de.ipynb```"
   ]
  },
  {
   "cell_type": "markdown",
   "metadata": {
    "id": "OE2qgEaeeCSg"
   },
   "source": [
    "Завдання 1: На вхід функція приймає рядок s. Функція повинна повернути True якщо рядок є паліндромом та False – в протилежному випадку.\n",
    "\n",
    "Наприклад: \n",
    "\n",
    "*   `is_palindrome(s='anade') -> False`\n",
    "*   `is_palindrome(s='ana') -> True`\n",
    "\n",
    "\n"
   ]
  },
  {
   "cell_type": "code",
   "execution_count": 4,
   "metadata": {
    "id": "Kkp_Eb1jeCSg"
   },
   "outputs": [
    {
     "data": {
      "text/plain": [
       "True"
      ]
     },
     "execution_count": 4,
     "metadata": {},
     "output_type": "execute_result"
    }
   ],
   "source": [
    "def is_palindrome(s: str) -> bool:\n",
    "  return s[::-1] == s\n",
    "\n",
    "is_palindrome('anana')"
   ]
  },
  {
   "cell_type": "markdown",
   "metadata": {
    "id": "IyJBIte7eCSh"
   },
   "source": [
    "Завдання 2: Розв’язати квадратне рівняння $ax^2+bx + c = 0$.  Напишіть функцію,яка приймає параметри квадратного рівняння, а повертає одне рішення або декілька.\n",
    "\n",
    "Наприклад:  \n",
    "\n",
    "\n",
    "```\n",
    "solve_quad(a=1, b=-2, c=1) -> 1  \n",
    "solve_quad(a=1, b=0, c=-1) -> (-1, 1)  \n",
    "solve_quad(a=0, b=2, c=-1) -> 0.5\n",
    "```\n",
    "\n",
    "\n",
    "\n",
    "\n",
    "\n",
    " "
   ]
  },
  {
   "cell_type": "code",
   "execution_count": 6,
   "metadata": {
    "id": "T-fCGsPjeCSh"
   },
   "outputs": [
    {
     "name": "stdout",
     "output_type": "stream",
     "text": [
      "1.0 -1.0 1.0 0.5\n"
     ]
    }
   ],
   "source": [
    "def solve_quad(a: float, b: float, c: float):\n",
    "  d = b ** 2 - 4 * a * c\n",
    "  if a == 0 and b == 0 and c == 0:\n",
    "      return \"[-inf, +inf]\"\n",
    "  if a == 0:\n",
    "      if b != 0:\n",
    "        return (-c / b)\n",
    "      else:\n",
    "          return \"There's no solution\"\n",
    "  if d > 0:\n",
    "    return str((-b-(d**(1/2)))/(2*a)) + \" \" + str((-b+(d**(1/2)))/(2*a))\n",
    "  elif d == 0:\n",
    "    return (-b)/(2*a)\n",
    "  else:\n",
    "      return \"There's no solution\"\n",
    "\n",
    "print(solve_quad(1, -2, 1), solve_quad(1, 0, -1), solve_quad(0, 2, -1))"
   ]
  },
  {
   "cell_type": "markdown",
   "metadata": {
    "id": "XTXSIYdYeCSh"
   },
   "source": [
    "Завдання 3: Реалізація функції merge. На вхід функція приймає 2 відсортованих масиви - `a` і `b`. Функція повинна повернути один відсортований масив, який містить всі елементи масивів `a` і `b`. \n",
    "\n",
    "Наприклад: `merge([1, 3, 3, 5], [3, 5, 5, 7]) -> [1, 3, 3, 3, 5, 5, 5, 7]`"
   ]
  },
  {
   "cell_type": "code",
   "execution_count": 7,
   "metadata": {
    "id": "nfXKB-nveCSh"
   },
   "outputs": [
    {
     "name": "stdout",
     "output_type": "stream",
     "text": [
      "[1, 3, 3, 3, 5, 5, 5, 7]\n"
     ]
    }
   ],
   "source": [
    "from typing import List\n",
    "\n",
    "def merge(a: List[int], b: List[int]) -> List[int]:\n",
    "    result = a + b\n",
    "    result.sort()\n",
    "    return result\n",
    "\n",
    "print(merge([1, 3, 3, 5], [3, 5, 5, 7]))"
   ]
  },
  {
   "cell_type": "markdown",
   "metadata": {
    "id": "Z4zl4_cNeCSi"
   },
   "source": [
    "Завдання 4: Реалізація алгоритму [MergeSort](https://ru.wikipedia.org/wiki/%D0%A1%D0%BE%D1%80%D1%82%D0%B8%D1%80%D0%BE%D0%B2%D0%BA%D0%B0_%D1%81%D0%BB%D0%B8%D1%8F%D0%BD%D0%B8%D0%B5%D0%BC)..\n",
    "\n",
    "Наприклад: `MergeSort([3, 1, 3, 5]) -> [1, 3, 3, 5]`"
   ]
  },
  {
   "cell_type": "code",
   "execution_count": 2,
   "metadata": {
    "id": "VhDE9sTyeCSi"
   },
   "outputs": [
    {
     "name": "stdout",
     "output_type": "stream",
     "text": [
      "[1, 3, 3, 5]\n"
     ]
    }
   ],
   "source": [
    "from typing import List\n",
    "\n",
    "def MergeSort(L: List[int]) -> List[int]:\n",
    "    if len(L) > 1:\n",
    "        \n",
    "        mid = len(L) // 2\n",
    "        left = L[:mid]\n",
    "        right = L[mid:]\n",
    "\n",
    "        MergeSort(left)\n",
    "        MergeSort(right)\n",
    "\n",
    "        i = 0\n",
    "        j = 0\n",
    "        k = 0\n",
    "\n",
    "        while i < len(left) and j < len(right):\n",
    "            if left[i] < right[j]:\n",
    "                L[k] = left[i]\n",
    "                i += 1\n",
    "            else:\n",
    "                L[k] = right[j]\n",
    "                j += 1\n",
    "            k += 1\n",
    "\n",
    "        while i < len(left):\n",
    "            L[k] = left[i]\n",
    "            i += 1\n",
    "            k += 1\n",
    "\n",
    "        while j < len(right):\n",
    "            L[k] = right[j]\n",
    "            j += 1\n",
    "            k += 1\n",
    "            \n",
    "resultList = [3, 1, 3, 5]\n",
    "MergeSort(resultList)\n",
    "print(resultList)"
   ]
  },
  {
   "cell_type": "markdown",
   "metadata": {
    "id": "oiEEW3IKeCSj"
   },
   "source": [
    "## Знайомство з numpy."
   ]
  },
  {
   "cell_type": "markdown",
   "metadata": {
    "id": "eEtj358ceCSj"
   },
   "source": [
    "Всі завдання з цієї частини передбачають написання функції на мові Python, а так само приклади роботи цієї функції. При реалізації завдань потрібно використовувати методи з бібліотеки `numpy`. Рішення з циклами будуть оцінені в 0 балів.\n",
    "\n",
    "[базова документація](http://www.numpy.org)\n",
    "\n",
    "```NB```: Під матрицею розуміється двовимірний [numpy.array](https://docs.scipy.org/doc/numpy/reference/generated/numpy.array.html)\n",
    "\n",
    "Для підключення модуля скористайтеся наступним рядком. \n",
    "Використовуйте стандартне скорочення np."
   ]
  },
  {
   "cell_type": "code",
   "execution_count": 2,
   "metadata": {
    "id": "tpv_AzJzeCSj"
   },
   "outputs": [],
   "source": [
    "import numpy as np"
   ]
  },
  {
   "cell_type": "markdown",
   "metadata": {
    "id": "syBtY_AReCSj"
   },
   "source": [
    "Cтворення одномірного і двомірного масивів методами numpy:"
   ]
  },
  {
   "cell_type": "code",
   "execution_count": 3,
   "metadata": {
    "id": "yfm0zbHJeCSj",
    "outputId": "e896f45e-df10-4364-f796-10032bd467cd"
   },
   "outputs": [
    {
     "name": "stdout",
     "output_type": "stream",
     "text": [
      "[1. 2. 3.]\n"
     ]
    }
   ],
   "source": [
    "Ar1d = np.array([1, 2, 3], dtype=np.float64)\n",
    "print(Ar1d)"
   ]
  },
  {
   "cell_type": "code",
   "execution_count": null,
   "metadata": {
    "id": "NO1tV1fteCSk",
    "outputId": "59fedd1c-9b1b-43a9-a689-822c7efb3927"
   },
   "outputs": [
    {
     "name": "stdout",
     "output_type": "stream",
     "text": [
      "[[1. 2.]\n",
      " [3. 4.]]\n"
     ]
    }
   ],
   "source": [
    "Ar2d = np.array([[1, 2],\n",
    "                [3, 4]], dtype=np.float)\n",
    "print(Ar2d)"
   ]
  },
  {
   "cell_type": "markdown",
   "metadata": {
    "id": "NZns18uoeCSk"
   },
   "source": [
    "Завдання 6: Написати функцію яка на вхід приймає 3 масиви – `X, Y, Z`. функція повертатиме `True` у випадку, коли вони рівні та `False` – якщо ні.\n",
    "\n",
    "Рекомендація до завдання: Не використовуйте оператор `==`"
   ]
  },
  {
   "cell_type": "code",
   "execution_count": 1,
   "metadata": {
    "id": "nzv5GOlqeCSl"
   },
   "outputs": [
    {
     "name": "stdout",
     "output_type": "stream",
     "text": [
      "False\n"
     ]
    }
   ],
   "source": [
    "import numpy as np\n",
    "\n",
    "def is_equal(X, Y, Z):\n",
    "    return np.logical_and(np.array_equal(X, Y), np.array_equal(Y, Z))\n",
    "\n",
    "array1 = np.array([1,2,3], dtype = np.float64)\n",
    "array2 = np.array([1,2,4], dtype = np.float64)\n",
    "\n",
    "print(is_equal(array1, array2, array1))"
   ]
  },
  {
   "cell_type": "markdown",
   "metadata": {
    "id": "4vYN-bnIeCSl"
   },
   "source": [
    "Завдання 7: написати функцію, яка приймає на вході вектор рядок, а повертає вектор стовбець.\n",
    "\n",
    "Рекомендація до завдання: Забороняється використовувати операцію транспонування! Скористайтесь методом `reshape`."
   ]
  },
  {
   "cell_type": "code",
   "execution_count": 5,
   "metadata": {
    "id": "cwnufrdPeCSl"
   },
   "outputs": [
    {
     "name": "stdout",
     "output_type": "stream",
     "text": [
      "[[1.]\n",
      " [2.]\n",
      " [3.]]\n"
     ]
    }
   ],
   "source": [
    "import numpy as np\n",
    "\n",
    "def rot_vec(x):\n",
    "    return np.reshape(x, (3, 1)) \n",
    "\n",
    "a = np.array([1,2,3], dtype = np.float64)\n",
    "print(rot_vec(a))"
   ]
  },
  {
   "cell_type": "markdown",
   "metadata": {
    "id": "uvi-JOAheCSl"
   },
   "source": [
    "Завдання 8: Написати функцію яка приймає на вхід двовимірний масив, а повертає масив з діагональними елементами цієї матриці. \n",
    "\n",
    "Наприклад: `[[1, 2], [3, 4]] -> [1 4]`"
   ]
  },
  {
   "cell_type": "code",
   "execution_count": 6,
   "metadata": {
    "id": "uBSPXOJkeCSl"
   },
   "outputs": [
    {
     "name": "stdout",
     "output_type": "stream",
     "text": [
      "[1. 4.]\n"
     ]
    }
   ],
   "source": [
    "import numpy as np\n",
    "\n",
    "def get_diag(X):\n",
    "    return X.diagonal()\n",
    "\n",
    "ar = np.array([[1, 2],[3, 4]], dtype=np.float64)\n",
    "print(get_diag(ar))"
   ]
  },
  {
   "cell_type": "markdown",
   "metadata": {
    "id": "PvwgIU1veCSm"
   },
   "source": [
    "Завдання 9: Написати функцію яка приймає на вхід двомірний масив, а повертає масив елементів які знаходяться на другорядній діагоналі. Приклад: `[[1, 2], [3, 4]] -> [2 3]`"
   ]
  },
  {
   "cell_type": "code",
   "execution_count": 5,
   "metadata": {
    "id": "zIRKjQofeCSm"
   },
   "outputs": [
    {
     "name": "stdout",
     "output_type": "stream",
     "text": [
      "[2. 3.]\n"
     ]
    }
   ],
   "source": [
    "import numpy as np\n",
    "\n",
    "def sec_diag(X):\n",
    "    return np.diag(np.fliplr(X))\n",
    "\n",
    "ar = np.array([[1, 2],[3, 4]], dtype=np.float64)\n",
    "print(sec_diag(ar))"
   ]
  },
  {
   "cell_type": "markdown",
   "metadata": {
    "id": "TQ61tk7SeCSm"
   },
   "source": [
    "## Робота з бібліотекою pandas\n",
    "\n",
    "В наступній частині лабораторної роботи розглянемо бібліотеку pandas.\n",
    "Перед виконанням цієї частини необхідно завантажити датасет за посиланням:\n",
    "[titanic.csv](https://gist.github.com/michhar/2dfd2de0d4f8727f873422c5d959fff5)\n",
    "\n",
    "[основна документація цього розділу](https://pandas.pydata.org/)"
   ]
  },
  {
   "cell_type": "code",
   "execution_count": 47,
   "metadata": {
    "id": "Fbe_qcF0eCSm"
   },
   "outputs": [
    {
     "name": "stdout",
     "output_type": "stream",
     "text": [
      "   5  0  3        Allen, Mr. William Henry  male    35  0.1  0.2  373450  \\\n",
      "0  6  0  3                Moran, Mr. James  male   NaN    0    0  330877   \n",
      "1  7  0  1         McCarthy, Mr. Timothy J  male  54.0    0    0   17463   \n",
      "2  8  0  3  Palsson, Master. Gosta Leonard  male   2.0    3    1  349909   \n",
      "\n",
      "      8.05 Unnamed: 10  S  \n",
      "0   8.4583         NaN  Q  \n",
      "1  51.8625         E46  S  \n",
      "2  21.0750         NaN  S  \n"
     ]
    }
   ],
   "source": [
    "import pandas as pd\n",
    "\n",
    "# Завантажте датасет. Ознайомтесь з тим як це правильно зробити, уважно прочитавши документацію по функції pd.read_csv.\n",
    "# Зверніть особливу увагу на роздільники датасета. \n",
    "\n",
    "dataset = pd.read_csv(\"https://gist.githubusercontent.com/michhar/2dfd2de0d4f8727f873422c5d959fff5/raw/fa71405126017e6a37bea592440b4bee94bf7b9e/titanic.csv\", skiprows=5, nrows=3)\n",
    "print(dataset)"
   ]
  },
  {
   "cell_type": "markdown",
   "metadata": {
    "id": "qTxYBLWdeCSm"
   },
   "source": [
    "Завдання 10: Кого більше - чоловіків чи жінок?"
   ]
  },
  {
   "cell_type": "code",
   "execution_count": 2,
   "metadata": {
    "id": "58MgIBEleCSm"
   },
   "outputs": [
    {
     "name": "stdout",
     "output_type": "stream",
     "text": [
      "Більше чоловіків\n"
     ]
    }
   ],
   "source": [
    "import pandas as pd\n",
    "\n",
    "df = pd.read_csv(\"https://gist.githubusercontent.com/michhar/2dfd2de0d4f8727f873422c5d959fff5/raw/fa71405126017e6a37bea592440b4bee94bf7b9e/titanic.csv\")\n",
    "\n",
    "male = 0\n",
    "female = 0\n",
    "\n",
    "for item in df[\"Sex\"]:\n",
    "    if item == \"male\":\n",
    "        male = male + 1\n",
    "    else:\n",
    "        female = female + 1\n",
    "\n",
    "if male > female:\n",
    "    print(\"Більше чоловіків\")\n",
    "else:\n",
    "    print(\"Більше жінок\")"
   ]
  },
  {
   "cell_type": "markdown",
   "metadata": {
    "id": "ApLZCvNveCSm"
   },
   "source": [
    "Завдання 11: Виведіть наступні характеристики пасажирів: середній вік пасажирів, середній вік чоловіків, середній вік жінок, максимальний і мінімальний вік серед чоловіків і жінок."
   ]
  },
  {
   "cell_type": "code",
   "execution_count": 56,
   "metadata": {
    "id": "Sg59NcqLeCSn"
   },
   "outputs": [
    {
     "name": "stdout",
     "output_type": "stream",
     "text": [
      "середній вік пасажирів 29.699\n",
      "середній вік чоловіків 30.727\n",
      "середній вік жінок 27.916\n",
      "мінімальний вік чоловіків 0.42\n",
      "максимальний вік чоловіків 80.0\n",
      "мінімальний вік жінок 0.75\n",
      "максимальний вік жінок 63.0\n"
     ]
    }
   ],
   "source": [
    "import pandas as pd\n",
    "\n",
    "df = pd.read_csv(\"https://gist.githubusercontent.com/michhar/2dfd2de0d4f8727f873422c5d959fff5/raw/fa71405126017e6a37bea592440b4bee94bf7b9e/titanic.csv\", usecols = ['Sex','Age'])\n",
    "\n",
    "print(\"середній вік пасажирів\", round(df[\"Age\"].mean(), 3))\n",
    "print(\"середній вік чоловіків\", round(df.loc[df[\"Sex\"] == \"male\", \"Age\"].mean(), 3))\n",
    "print(\"середній вік жінок\", round(df.loc[df[\"Sex\"] == \"female\", \"Age\"].mean(), 3))\n",
    "print(\"мінімальний вік чоловіків\", round(df.loc[df[\"Sex\"] == \"male\", \"Age\"].min(), 3))\n",
    "print(\"максимальний вік чоловіків\", round(df.loc[df[\"Sex\"] == \"male\", \"Age\"].max(), 3))\n",
    "print(\"мінімальний вік жінок\", round(df.loc[df[\"Sex\"] == \"female\", \"Age\"].min(), 3))\n",
    "print(\"максимальний вік жінок\", round(df.loc[df[\"Sex\"] == \"female\", \"Age\"].max(), 3))\n"
   ]
  },
  {
   "cell_type": "markdown",
   "metadata": {
    "id": "P5zkuX9VeCSn"
   },
   "source": [
    " ## Знайомство з бібліотекою matplotlib "
   ]
  },
  {
   "cell_type": "markdown",
   "metadata": {
    "id": "cYyqxB4MeCSn"
   },
   "source": [
    "Для початку ознайомтесь з [документацією](https://matplotlib.org/)"
   ]
  },
  {
   "cell_type": "markdown",
   "metadata": {
    "id": "pEt3gexreCSn"
   },
   "source": [
    "Завдання 12: Побудувати задані функції: \n",
    "\n",
    "$f_{1}(x) =  \\frac{sin(x)}{x}$\n",
    "\n",
    "$f_{2}(x) =  \\frac{cos(x)}{x^2 + 1}$\n",
    "\n",
    "$f_{3}(x) =  cos^2(x) - \\frac{sin(x)}{2}$  \n",
    "\n",
    "$f_{4}(x) =  cos(x)$  \n",
    "\n",
    "$f_{5}(x) =  \\frac{sin(x)}{x^2 + 1}$"
   ]
  },
  {
   "cell_type": "markdown",
   "metadata": {},
   "source": [
    "зробити візуалізацію заданих функцій  \n",
    "нижче наведені стандартні праклади"
   ]
  },
  {
   "cell_type": "code",
   "execution_count": 9,
   "metadata": {
    "id": "YVT6yXXqeCSn"
   },
   "outputs": [],
   "source": [
    "from matplotlib import pylab as plt\n",
    "import numpy as np\n",
    "x = np.arange(-10, 10, 0.05)"
   ]
  },
  {
   "cell_type": "code",
   "execution_count": 32,
   "metadata": {},
   "outputs": [
    {
     "data": {
      "image/png": "[encoded data removed]",
      "text/plain": [
       "<Figure size 432x288 with 1 Axes>"
      ]
     },
     "metadata": {
      "needs_background": "light"
     },
     "output_type": "display_data"
    }
   ],
   "source": [
    "y1 = np.sin(x) / x\n",
    "plt.title(u'Графік №1')\n",
    "plt.xlabel(u'Аргумент')\n",
    "plt.ylabel(u'Функція')\n",
    "plt.plot(x, y5, label = u'cos / sin', color = \"lime\")\n",
    "plt.legend()\n",
    "plt.grid(True)\n",
    "plt.show()"
   ]
  },
  {
   "cell_type": "code",
   "execution_count": 38,
   "metadata": {},
   "outputs": [
    {
     "data": {
      "image/png": "[encoded data removed]",
      "text/plain": [
       "<Figure size 432x288 with 1 Axes>"
      ]
     },
     "metadata": {
      "needs_background": "light"
     },
     "output_type": "display_data"
    }
   ],
   "source": [
    "y2 = np.cos(x) / (1. + x ** 2)\n",
    "plt.title(u'Графік №2')\n",
    "plt.xlabel(u'Аргумент')\n",
    "plt.ylabel(u'Функція')\n",
    "plt.plot(x, y2, label = u'cos / (x^2 + 1)', color = \"cyan\")\n",
    "plt.legend()\n",
    "plt.grid(True)\n",
    "plt.show()"
   ]
  },
  {
   "cell_type": "code",
   "execution_count": 39,
   "metadata": {},
   "outputs": [
    {
     "data": {
      "image/png": "[encoded data removed]",
      "text/plain": [
       "<Figure size 432x288 with 1 Axes>"
      ]
     },
     "metadata": {
      "needs_background": "light"
     },
     "output_type": "display_data"
    }
   ],
   "source": [
    "y3 = np.cos(x) ** 2 - np.sin(x) / 2.\n",
    "plt.title(u'Графік №3')\n",
    "plt.xlabel(u'Аргумент')\n",
    "plt.ylabel(u'Функція')\n",
    "plt.plot(x, y3, label = u'cos^2 - sin/2', color = \"red\")\n",
    "plt.legend()\n",
    "plt.grid(True)\n",
    "plt.show()"
   ]
  },
  {
   "cell_type": "code",
   "execution_count": 40,
   "metadata": {},
   "outputs": [
    {
     "data": {
      "image/png": "[encoded data removed]",
      "text/plain": [
       "<Figure size 432x288 with 1 Axes>"
      ]
     },
     "metadata": {
      "needs_background": "light"
     },
     "output_type": "display_data"
    }
   ],
   "source": [
    "y4 = np.cos(x)\n",
    "plt.title(u'Графік №4')\n",
    "plt.xlabel(u'Аргумент')\n",
    "plt.ylabel(u'Функція')\n",
    "plt.plot(x, y4, label = u'cos', color = \"darkorange\")\n",
    "plt.legend()\n",
    "plt.grid(True)\n",
    "plt.show()"
   ]
  },
  {
   "cell_type": "code",
   "execution_count": 41,
   "metadata": {},
   "outputs": [
    {
     "data": {
      "image/png": "[encoded data removed]",
      "text/plain": [
       "<Figure size 432x288 with 1 Axes>"
      ]
     },
     "metadata": {
      "needs_background": "light"
     },
     "output_type": "display_data"
    }
   ],
   "source": [
    "y5 = np.sin(x) / (1. + x ** 2)\n",
    "plt.title(u'Графік №5')\n",
    "plt.xlabel(u'Аргумент')\n",
    "plt.ylabel(u'Функція')\n",
    "plt.plot(x, y5, label = u'sin / (x^2 + 1)', color = \"deeppink\")\n",
    "plt.legend()\n",
    "plt.grid(True)\n",
    "plt.show()"
   ]
  },
  {
   "cell_type": "markdown",
   "metadata": {
    "id": "Tg-QmR-eeCSp"
   },
   "source": [
    "Завдання 13: Побудувати графік щільності розподілу випадкової величини."
   ]
  },
  {
   "cell_type": "markdown",
   "metadata": {},
   "source": [
    "зробити візуалізації задоної випадкової величини"
   ]
  },
  {
   "cell_type": "code",
   "execution_count": 44,
   "metadata": {},
   "outputs": [
    {
     "data": {
      "image/png": "[encoded data removed]",
      "text/plain": [
       "<Figure size 432x288 with 1 Axes>"
      ]
     },
     "metadata": {
      "needs_background": "light"
     },
     "output_type": "display_data"
    }
   ],
   "source": [
    "a = np.random.normal(loc=2.1, scale=5.0, size=3500)\n",
    "b = np.random.normal(loc=4.5, scale=6.7, size=4500)\n",
    "c = np.random.normal(loc=7.1, scale=7.9, size=5500)\n",
    "\n",
    "plt.hist(a, color=\"red\", label=\"A\", alpha=.5)\n",
    "plt.hist(b, color=\"darkorange\", label=\"B\", alpha=.5)\n",
    "plt.hist(c, color=\"dodgerblue\", label=\"C\", alpha=.5)\n",
    "\n",
    "plt.title(u'Графік щільності розподілу випадкової величини')\n",
    "plt.xlabel(u'Аргумент')\n",
    "plt.ylabel(u'Функція')\n",
    "# plt.plot(x, y5, label = u'sin / (x^2 + 1)', color = \"deeppink\")\n",
    "plt.legend()\n",
    "plt.grid(True)\n",
    "plt.show()"
   ]
  },
  {
   "cell_type": "code",
   "execution_count": 25,
   "metadata": {
    "id": "9Av3YD1NeCSp"
   },
   "outputs": [
    {
     "data": {
      "image/png": "[encoded data removed]",
      "text/plain": [
       "<Figure size 432x288 with 1 Axes>"
      ]
     },
     "metadata": {
      "needs_background": "light"
     },
     "output_type": "display_data"
    }
   ],
   "source": [
    "d = np.random.normal(loc=5.3, scale=7.1, size=3100)\n",
    "plt.hist(d)\n",
    "plt.show()"
   ]
  }
 ],
 "metadata": {
  "colab": {
   "collapsed_sections": [],
   "name": "task1_basic_ai_ad.ipynb",
   "provenance": []
  },
  "kernelspec": {
   "display_name": "Python 3",
   "language": "python",
   "name": "python3"
  },
  "language_info": {
   "codemirror_mode": {
    "name": "ipython",
    "version": 3
   },
   "file_extension": ".py",
   "mimetype": "text/x-python",
   "name": "python",
   "nbconvert_exporter": "python",
   "pygments_lexer": "ipython3",
   "version": "3.8.5"
  }
 },
 "nbformat": 4,
 "nbformat_minor": 4
}
